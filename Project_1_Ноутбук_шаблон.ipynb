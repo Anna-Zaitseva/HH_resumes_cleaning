{
  "cells": [
    {
      "cell_type": "markdown",
      "metadata": {
        "id": "view-in-github",
        "colab_type": "text"
      },
      "source": [
        "<a href=\"https://colab.research.google.com/github/Anna-Zaitseva/HH_resumes_cleaning/blob/master/Project_1_%D0%9D%D0%BE%D1%83%D1%82%D0%B1%D1%83%D0%BA_%D1%88%D0%B0%D0%B1%D0%BB%D0%BE%D0%BD.ipynb\" target=\"_parent\"><img src=\"https://colab.research.google.com/assets/colab-badge.svg\" alt=\"Open In Colab\"/></a>"
      ]
    },
    {
      "cell_type": "markdown",
      "id": "42289889-bd57-434e-9637-d3e354756316",
      "metadata": {
        "id": "42289889-bd57-434e-9637-d3e354756316"
      },
      "source": [
        "<center> <img src = https://raw.githubusercontent.com/AndreyRysistov/DatasetsForPandas/main/hh%20label.jpg alt=\"drawing\" style=\"width:400px;\">"
      ]
    },
    {
      "cell_type": "markdown",
      "id": "829cb75b-f14e-4ba8-9195-7ba929a7d656",
      "metadata": {
        "tags": [],
        "id": "829cb75b-f14e-4ba8-9195-7ba929a7d656"
      },
      "source": [
        "# <center> Проект: Анализ резюме из HeadHunter\n",
        "   "
      ]
    },
    {
      "cell_type": "code",
      "execution_count": null,
      "id": "dccfde33-2452-43fb-a8a5-5c6ebc02a71d",
      "metadata": {
        "id": "dccfde33-2452-43fb-a8a5-5c6ebc02a71d"
      },
      "outputs": [],
      "source": [
        "import pandas as pd\n",
        "import numpy as np\n",
        "import matplotlib.pyplot as plt\n",
        "import seaborn as sns\n",
        "import plotly.express as px"
      ]
    },
    {
      "cell_type": "markdown",
      "id": "0dc6476b-7a00-44f1-ac93-6e3baed33a29",
      "metadata": {
        "id": "0dc6476b-7a00-44f1-ac93-6e3baed33a29"
      },
      "source": [
        "# Исследование структуры данных"
      ]
    },
    {
      "cell_type": "markdown",
      "id": "889782b6-8d1c-410e-8920-e57f27917c64",
      "metadata": {
        "id": "889782b6-8d1c-410e-8920-e57f27917c64"
      },
      "source": [
        "1. Прочитайте данные с помощью библиотеки Pandas. Совет: перед чтением обратите внимание на разделитель внутри файла. "
      ]
    },
    {
      "cell_type": "code",
      "source": [
        "# для открытия и чтения файла с данным c Google.Drive через Google.Colab\n",
        "'''\n",
        "from google.colab import drive\n",
        "drive.mount('/content/drive')\n",
        "path = '/content/drive/MyDrive/Data_Science/Project_1_HH/dst-3.0_16_1_hh_database.csv'\n",
        "data = pd.read_csv(path, sep=';')'''"
      ],
      "metadata": {
        "colab": {
          "base_uri": "https://localhost:8080/"
        },
        "id": "tZOKOP3xrorF",
        "outputId": "dcaa7b4f-bfc9-4fd6-cb2e-6578e63b79e5"
      },
      "id": "tZOKOP3xrorF",
      "execution_count": null,
      "outputs": [
        {
          "output_type": "stream",
          "name": "stdout",
          "text": [
            "Mounted at /content/drive\n"
          ]
        }
      ]
    },
    {
      "cell_type": "code",
      "execution_count": null,
      "id": "bc39e68e-ed02-4ee2-9235-7258a2f867a8",
      "metadata": {
        "id": "bc39e68e-ed02-4ee2-9235-7258a2f867a8"
      },
      "outputs": [],
      "source": [
        "#ваш код здесь\n",
        "data = pd.read_csv('dst-3.0_16_1_hh_database.csv', sep=';')"
      ]
    },
    {
      "cell_type": "markdown",
      "id": "b583485d-1f9e-494e-ada4-80ffff7c53d6",
      "metadata": {
        "id": "b583485d-1f9e-494e-ada4-80ffff7c53d6"
      },
      "source": [
        "2. Выведите несколько первых (последних) строк таблицы, чтобы убедиться в том, что ваши данные не повреждены. Ознакомьтесь с признаками и их структурой."
      ]
    },
    {
      "cell_type": "code",
      "execution_count": null,
      "id": "5408c52c-3407-4a63-b25b-1aafa2322d28",
      "metadata": {
        "id": "5408c52c-3407-4a63-b25b-1aafa2322d28",
        "colab": {
          "base_uri": "https://localhost:8080/",
          "height": 564
        },
        "outputId": "7c93d6d7-6a35-414e-ea77-8de00a3d77a1"
      },
      "outputs": [
        {
          "output_type": "display_data",
          "data": {
            "text/plain": [
              "                                 Пол, возраст          ЗП  \\\n",
              "0  Мужчина ,  39 лет , родился 27 ноября 1979  29000 руб.   \n",
              "1   Мужчина ,  60 лет , родился 20 марта 1959  40000 руб.   \n",
              "\n",
              "  Ищет работу на должность:  \\\n",
              "0   Системный администратор   \n",
              "1      Технический писатель   \n",
              "\n",
              "                        Город, переезд, командировки  \\\n",
              "0  Советск (Калининградская область) , не готов к...   \n",
              "1  Королев , не готов к переезду , готов к редким...   \n",
              "\n",
              "                                           Занятость  \\\n",
              "0  частичная занятость, проектная работа, полная ...   \n",
              "1  частичная занятость, проектная работа, полная ...   \n",
              "\n",
              "                                              График  \\\n",
              "0  гибкий график, полный день, сменный график, ва...   \n",
              "1  гибкий график, полный день, сменный график, уд...   \n",
              "\n",
              "                                         Опыт работы  \\\n",
              "0  Опыт работы 16 лет 10 месяцев  Август 2010 — п...   \n",
              "1  Опыт работы 19 лет 5 месяцев  Январь 2000 — по...   \n",
              "\n",
              "  Последнее/нынешнее место работы  \\\n",
              "0         МАОУ \"СОШ № 1 г.Немана\"   \n",
              "1    Временный трудовой коллектив   \n",
              "\n",
              "                       Последняя/нынешняя должность  \\\n",
              "0                           Системный администратор   \n",
              "1  Менеджер проекта, Аналитик, Технический писатель   \n",
              "\n",
              "                                   Образование и ВУЗ Обновление резюме  \\\n",
              "0  Неоконченное высшее образование 2000  Балтийск...  16.04.2019 15:59   \n",
              "1  Высшее образование 1981  Военно-космическая ак...  12.04.2019 08:42   \n",
              "\n",
              "                             Авто  \n",
              "0  Имеется собственный автомобиль  \n",
              "1                      Не указано  "
            ],
            "text/html": [
              "\n",
              "  <div id=\"df-2ae2c471-b5cc-41ab-846f-52bddaae3c98\">\n",
              "    <div class=\"colab-df-container\">\n",
              "      <div>\n",
              "<style scoped>\n",
              "    .dataframe tbody tr th:only-of-type {\n",
              "        vertical-align: middle;\n",
              "    }\n",
              "\n",
              "    .dataframe tbody tr th {\n",
              "        vertical-align: top;\n",
              "    }\n",
              "\n",
              "    .dataframe thead th {\n",
              "        text-align: right;\n",
              "    }\n",
              "</style>\n",
              "<table border=\"1\" class=\"dataframe\">\n",
              "  <thead>\n",
              "    <tr style=\"text-align: right;\">\n",
              "      <th></th>\n",
              "      <th>Пол, возраст</th>\n",
              "      <th>ЗП</th>\n",
              "      <th>Ищет работу на должность:</th>\n",
              "      <th>Город, переезд, командировки</th>\n",
              "      <th>Занятость</th>\n",
              "      <th>График</th>\n",
              "      <th>Опыт работы</th>\n",
              "      <th>Последнее/нынешнее место работы</th>\n",
              "      <th>Последняя/нынешняя должность</th>\n",
              "      <th>Образование и ВУЗ</th>\n",
              "      <th>Обновление резюме</th>\n",
              "      <th>Авто</th>\n",
              "    </tr>\n",
              "  </thead>\n",
              "  <tbody>\n",
              "    <tr>\n",
              "      <th>0</th>\n",
              "      <td>Мужчина ,  39 лет , родился 27 ноября 1979</td>\n",
              "      <td>29000 руб.</td>\n",
              "      <td>Системный администратор</td>\n",
              "      <td>Советск (Калининградская область) , не готов к...</td>\n",
              "      <td>частичная занятость, проектная работа, полная ...</td>\n",
              "      <td>гибкий график, полный день, сменный график, ва...</td>\n",
              "      <td>Опыт работы 16 лет 10 месяцев  Август 2010 — п...</td>\n",
              "      <td>МАОУ \"СОШ № 1 г.Немана\"</td>\n",
              "      <td>Системный администратор</td>\n",
              "      <td>Неоконченное высшее образование 2000  Балтийск...</td>\n",
              "      <td>16.04.2019 15:59</td>\n",
              "      <td>Имеется собственный автомобиль</td>\n",
              "    </tr>\n",
              "    <tr>\n",
              "      <th>1</th>\n",
              "      <td>Мужчина ,  60 лет , родился 20 марта 1959</td>\n",
              "      <td>40000 руб.</td>\n",
              "      <td>Технический писатель</td>\n",
              "      <td>Королев , не готов к переезду , готов к редким...</td>\n",
              "      <td>частичная занятость, проектная работа, полная ...</td>\n",
              "      <td>гибкий график, полный день, сменный график, уд...</td>\n",
              "      <td>Опыт работы 19 лет 5 месяцев  Январь 2000 — по...</td>\n",
              "      <td>Временный трудовой коллектив</td>\n",
              "      <td>Менеджер проекта, Аналитик, Технический писатель</td>\n",
              "      <td>Высшее образование 1981  Военно-космическая ак...</td>\n",
              "      <td>12.04.2019 08:42</td>\n",
              "      <td>Не указано</td>\n",
              "    </tr>\n",
              "  </tbody>\n",
              "</table>\n",
              "</div>\n",
              "      <button class=\"colab-df-convert\" onclick=\"convertToInteractive('df-2ae2c471-b5cc-41ab-846f-52bddaae3c98')\"\n",
              "              title=\"Convert this dataframe to an interactive table.\"\n",
              "              style=\"display:none;\">\n",
              "        \n",
              "  <svg xmlns=\"http://www.w3.org/2000/svg\" height=\"24px\"viewBox=\"0 0 24 24\"\n",
              "       width=\"24px\">\n",
              "    <path d=\"M0 0h24v24H0V0z\" fill=\"none\"/>\n",
              "    <path d=\"M18.56 5.44l.94 2.06.94-2.06 2.06-.94-2.06-.94-.94-2.06-.94 2.06-2.06.94zm-11 1L8.5 8.5l.94-2.06 2.06-.94-2.06-.94L8.5 2.5l-.94 2.06-2.06.94zm10 10l.94 2.06.94-2.06 2.06-.94-2.06-.94-.94-2.06-.94 2.06-2.06.94z\"/><path d=\"M17.41 7.96l-1.37-1.37c-.4-.4-.92-.59-1.43-.59-.52 0-1.04.2-1.43.59L10.3 9.45l-7.72 7.72c-.78.78-.78 2.05 0 2.83L4 21.41c.39.39.9.59 1.41.59.51 0 1.02-.2 1.41-.59l7.78-7.78 2.81-2.81c.8-.78.8-2.07 0-2.86zM5.41 20L4 18.59l7.72-7.72 1.47 1.35L5.41 20z\"/>\n",
              "  </svg>\n",
              "      </button>\n",
              "      \n",
              "  <style>\n",
              "    .colab-df-container {\n",
              "      display:flex;\n",
              "      flex-wrap:wrap;\n",
              "      gap: 12px;\n",
              "    }\n",
              "\n",
              "    .colab-df-convert {\n",
              "      background-color: #E8F0FE;\n",
              "      border: none;\n",
              "      border-radius: 50%;\n",
              "      cursor: pointer;\n",
              "      display: none;\n",
              "      fill: #1967D2;\n",
              "      height: 32px;\n",
              "      padding: 0 0 0 0;\n",
              "      width: 32px;\n",
              "    }\n",
              "\n",
              "    .colab-df-convert:hover {\n",
              "      background-color: #E2EBFA;\n",
              "      box-shadow: 0px 1px 2px rgba(60, 64, 67, 0.3), 0px 1px 3px 1px rgba(60, 64, 67, 0.15);\n",
              "      fill: #174EA6;\n",
              "    }\n",
              "\n",
              "    [theme=dark] .colab-df-convert {\n",
              "      background-color: #3B4455;\n",
              "      fill: #D2E3FC;\n",
              "    }\n",
              "\n",
              "    [theme=dark] .colab-df-convert:hover {\n",
              "      background-color: #434B5C;\n",
              "      box-shadow: 0px 1px 3px 1px rgba(0, 0, 0, 0.15);\n",
              "      filter: drop-shadow(0px 1px 2px rgba(0, 0, 0, 0.3));\n",
              "      fill: #FFFFFF;\n",
              "    }\n",
              "  </style>\n",
              "\n",
              "      <script>\n",
              "        const buttonEl =\n",
              "          document.querySelector('#df-2ae2c471-b5cc-41ab-846f-52bddaae3c98 button.colab-df-convert');\n",
              "        buttonEl.style.display =\n",
              "          google.colab.kernel.accessAllowed ? 'block' : 'none';\n",
              "\n",
              "        async function convertToInteractive(key) {\n",
              "          const element = document.querySelector('#df-2ae2c471-b5cc-41ab-846f-52bddaae3c98');\n",
              "          const dataTable =\n",
              "            await google.colab.kernel.invokeFunction('convertToInteractive',\n",
              "                                                     [key], {});\n",
              "          if (!dataTable) return;\n",
              "\n",
              "          const docLinkHtml = 'Like what you see? Visit the ' +\n",
              "            '<a target=\"_blank\" href=https://colab.research.google.com/notebooks/data_table.ipynb>data table notebook</a>'\n",
              "            + ' to learn more about interactive tables.';\n",
              "          element.innerHTML = '';\n",
              "          dataTable['output_type'] = 'display_data';\n",
              "          await google.colab.output.renderOutput(dataTable, element);\n",
              "          const docLink = document.createElement('div');\n",
              "          docLink.innerHTML = docLinkHtml;\n",
              "          element.appendChild(docLink);\n",
              "        }\n",
              "      </script>\n",
              "    </div>\n",
              "  </div>\n",
              "  "
            ]
          },
          "metadata": {}
        },
        {
          "output_type": "display_data",
          "data": {
            "text/plain": [
              "                                      Пол, возраст           ЗП  \\\n",
              "44742  Мужчина ,  24 года , родился 6 октября 1994   20000 руб.   \n",
              "44743   Мужчина ,  38 лет , родился 25 апреля 1980  120000 руб.   \n",
              "\n",
              "      Ищет работу на должность:  \\\n",
              "44742          Контент-менеджер   \n",
              "44743      Руководитель проекта   \n",
              "\n",
              "                            Город, переезд, командировки  \\\n",
              "44742  Тамбов , не готов к переезду , не готов к кома...   \n",
              "44743  Москва , не готов к переезду , не готов к кома...   \n",
              "\n",
              "                                   Занятость            График  \\\n",
              "44742  частичная занятость, полная занятость  удаленная работа   \n",
              "44743                       полная занятость       полный день   \n",
              "\n",
              "                                             Опыт работы  \\\n",
              "44742  Опыт работы 3 года 10 месяцев  Контент-менедже...   \n",
              "44743  Опыт работы 15 лет 10 месяцев  Руководитель пр...   \n",
              "\n",
              "      Последнее/нынешнее место работы  \\\n",
              "44742                       IQ-Maxima   \n",
              "44743               ПАО ГК ТНС энерго   \n",
              "\n",
              "                    Последняя/нынешняя должность  \\\n",
              "44742                          Менеджер проектов   \n",
              "44743  Руководитель отдела технической поддержки   \n",
              "\n",
              "                                       Образование и ВУЗ Обновление резюме  \\\n",
              "44742  Высшее образование 2015  Тамбовский государств...  26.04.2019 14:25   \n",
              "44743  Высшее образование 1997  Южно-Российский госуд...  05.07.2018 20:15   \n",
              "\n",
              "                                 Авто  \n",
              "44742  Имеется собственный автомобиль  \n",
              "44743                      Не указано  "
            ],
            "text/html": [
              "\n",
              "  <div id=\"df-9fc0c460-96d4-4b19-a3d2-e63dd85d3c47\">\n",
              "    <div class=\"colab-df-container\">\n",
              "      <div>\n",
              "<style scoped>\n",
              "    .dataframe tbody tr th:only-of-type {\n",
              "        vertical-align: middle;\n",
              "    }\n",
              "\n",
              "    .dataframe tbody tr th {\n",
              "        vertical-align: top;\n",
              "    }\n",
              "\n",
              "    .dataframe thead th {\n",
              "        text-align: right;\n",
              "    }\n",
              "</style>\n",
              "<table border=\"1\" class=\"dataframe\">\n",
              "  <thead>\n",
              "    <tr style=\"text-align: right;\">\n",
              "      <th></th>\n",
              "      <th>Пол, возраст</th>\n",
              "      <th>ЗП</th>\n",
              "      <th>Ищет работу на должность:</th>\n",
              "      <th>Город, переезд, командировки</th>\n",
              "      <th>Занятость</th>\n",
              "      <th>График</th>\n",
              "      <th>Опыт работы</th>\n",
              "      <th>Последнее/нынешнее место работы</th>\n",
              "      <th>Последняя/нынешняя должность</th>\n",
              "      <th>Образование и ВУЗ</th>\n",
              "      <th>Обновление резюме</th>\n",
              "      <th>Авто</th>\n",
              "    </tr>\n",
              "  </thead>\n",
              "  <tbody>\n",
              "    <tr>\n",
              "      <th>44742</th>\n",
              "      <td>Мужчина ,  24 года , родился 6 октября 1994</td>\n",
              "      <td>20000 руб.</td>\n",
              "      <td>Контент-менеджер</td>\n",
              "      <td>Тамбов , не готов к переезду , не готов к кома...</td>\n",
              "      <td>частичная занятость, полная занятость</td>\n",
              "      <td>удаленная работа</td>\n",
              "      <td>Опыт работы 3 года 10 месяцев  Контент-менедже...</td>\n",
              "      <td>IQ-Maxima</td>\n",
              "      <td>Менеджер проектов</td>\n",
              "      <td>Высшее образование 2015  Тамбовский государств...</td>\n",
              "      <td>26.04.2019 14:25</td>\n",
              "      <td>Имеется собственный автомобиль</td>\n",
              "    </tr>\n",
              "    <tr>\n",
              "      <th>44743</th>\n",
              "      <td>Мужчина ,  38 лет , родился 25 апреля 1980</td>\n",
              "      <td>120000 руб.</td>\n",
              "      <td>Руководитель проекта</td>\n",
              "      <td>Москва , не готов к переезду , не готов к кома...</td>\n",
              "      <td>полная занятость</td>\n",
              "      <td>полный день</td>\n",
              "      <td>Опыт работы 15 лет 10 месяцев  Руководитель пр...</td>\n",
              "      <td>ПАО ГК ТНС энерго</td>\n",
              "      <td>Руководитель отдела технической поддержки</td>\n",
              "      <td>Высшее образование 1997  Южно-Российский госуд...</td>\n",
              "      <td>05.07.2018 20:15</td>\n",
              "      <td>Не указано</td>\n",
              "    </tr>\n",
              "  </tbody>\n",
              "</table>\n",
              "</div>\n",
              "      <button class=\"colab-df-convert\" onclick=\"convertToInteractive('df-9fc0c460-96d4-4b19-a3d2-e63dd85d3c47')\"\n",
              "              title=\"Convert this dataframe to an interactive table.\"\n",
              "              style=\"display:none;\">\n",
              "        \n",
              "  <svg xmlns=\"http://www.w3.org/2000/svg\" height=\"24px\"viewBox=\"0 0 24 24\"\n",
              "       width=\"24px\">\n",
              "    <path d=\"M0 0h24v24H0V0z\" fill=\"none\"/>\n",
              "    <path d=\"M18.56 5.44l.94 2.06.94-2.06 2.06-.94-2.06-.94-.94-2.06-.94 2.06-2.06.94zm-11 1L8.5 8.5l.94-2.06 2.06-.94-2.06-.94L8.5 2.5l-.94 2.06-2.06.94zm10 10l.94 2.06.94-2.06 2.06-.94-2.06-.94-.94-2.06-.94 2.06-2.06.94z\"/><path d=\"M17.41 7.96l-1.37-1.37c-.4-.4-.92-.59-1.43-.59-.52 0-1.04.2-1.43.59L10.3 9.45l-7.72 7.72c-.78.78-.78 2.05 0 2.83L4 21.41c.39.39.9.59 1.41.59.51 0 1.02-.2 1.41-.59l7.78-7.78 2.81-2.81c.8-.78.8-2.07 0-2.86zM5.41 20L4 18.59l7.72-7.72 1.47 1.35L5.41 20z\"/>\n",
              "  </svg>\n",
              "      </button>\n",
              "      \n",
              "  <style>\n",
              "    .colab-df-container {\n",
              "      display:flex;\n",
              "      flex-wrap:wrap;\n",
              "      gap: 12px;\n",
              "    }\n",
              "\n",
              "    .colab-df-convert {\n",
              "      background-color: #E8F0FE;\n",
              "      border: none;\n",
              "      border-radius: 50%;\n",
              "      cursor: pointer;\n",
              "      display: none;\n",
              "      fill: #1967D2;\n",
              "      height: 32px;\n",
              "      padding: 0 0 0 0;\n",
              "      width: 32px;\n",
              "    }\n",
              "\n",
              "    .colab-df-convert:hover {\n",
              "      background-color: #E2EBFA;\n",
              "      box-shadow: 0px 1px 2px rgba(60, 64, 67, 0.3), 0px 1px 3px 1px rgba(60, 64, 67, 0.15);\n",
              "      fill: #174EA6;\n",
              "    }\n",
              "\n",
              "    [theme=dark] .colab-df-convert {\n",
              "      background-color: #3B4455;\n",
              "      fill: #D2E3FC;\n",
              "    }\n",
              "\n",
              "    [theme=dark] .colab-df-convert:hover {\n",
              "      background-color: #434B5C;\n",
              "      box-shadow: 0px 1px 3px 1px rgba(0, 0, 0, 0.15);\n",
              "      filter: drop-shadow(0px 1px 2px rgba(0, 0, 0, 0.3));\n",
              "      fill: #FFFFFF;\n",
              "    }\n",
              "  </style>\n",
              "\n",
              "      <script>\n",
              "        const buttonEl =\n",
              "          document.querySelector('#df-9fc0c460-96d4-4b19-a3d2-e63dd85d3c47 button.colab-df-convert');\n",
              "        buttonEl.style.display =\n",
              "          google.colab.kernel.accessAllowed ? 'block' : 'none';\n",
              "\n",
              "        async function convertToInteractive(key) {\n",
              "          const element = document.querySelector('#df-9fc0c460-96d4-4b19-a3d2-e63dd85d3c47');\n",
              "          const dataTable =\n",
              "            await google.colab.kernel.invokeFunction('convertToInteractive',\n",
              "                                                     [key], {});\n",
              "          if (!dataTable) return;\n",
              "\n",
              "          const docLinkHtml = 'Like what you see? Visit the ' +\n",
              "            '<a target=\"_blank\" href=https://colab.research.google.com/notebooks/data_table.ipynb>data table notebook</a>'\n",
              "            + ' to learn more about interactive tables.';\n",
              "          element.innerHTML = '';\n",
              "          dataTable['output_type'] = 'display_data';\n",
              "          await google.colab.output.renderOutput(dataTable, element);\n",
              "          const docLink = document.createElement('div');\n",
              "          docLink.innerHTML = docLinkHtml;\n",
              "          element.appendChild(docLink);\n",
              "        }\n",
              "      </script>\n",
              "    </div>\n",
              "  </div>\n",
              "  "
            ]
          },
          "metadata": {}
        }
      ],
      "source": [
        "#ваш код здесь\n",
        "display(data.head(2), data.tail(2))"
      ]
    },
    {
      "cell_type": "markdown",
      "id": "a2bfff1f-c975-4bf6-84be-2185d79dcb76",
      "metadata": {
        "id": "a2bfff1f-c975-4bf6-84be-2185d79dcb76"
      },
      "source": [
        "3. Выведите основную информацию о числе непустых значений в столбцах и их типах в таблице."
      ]
    },
    {
      "cell_type": "markdown",
      "id": "41bb59f3-53cc-4a67-a5bc-bedf573955e4",
      "metadata": {
        "id": "41bb59f3-53cc-4a67-a5bc-bedf573955e4"
      },
      "source": [
        "4. Обратите внимание на информацию о числе непустых значений."
      ]
    },
    {
      "cell_type": "code",
      "execution_count": null,
      "id": "d286cf4c-707b-4cd2-9190-7ab3587d04a1",
      "metadata": {
        "id": "d286cf4c-707b-4cd2-9190-7ab3587d04a1",
        "colab": {
          "base_uri": "https://localhost:8080/"
        },
        "outputId": "8ab7de64-7602-4a71-958e-fb3aab95c72f"
      },
      "outputs": [
        {
          "output_type": "stream",
          "name": "stdout",
          "text": [
            "<class 'pandas.core.frame.DataFrame'>\n",
            "RangeIndex: 44744 entries, 0 to 44743\n",
            "Data columns (total 12 columns):\n",
            " #   Column                           Non-Null Count  Dtype \n",
            "---  ------                           --------------  ----- \n",
            " 0   Пол, возраст                     44744 non-null  object\n",
            " 1   ЗП                               44744 non-null  object\n",
            " 2   Ищет работу на должность:        44744 non-null  object\n",
            " 3   Город, переезд, командировки     44744 non-null  object\n",
            " 4   Занятость                        44744 non-null  object\n",
            " 5   График                           44744 non-null  object\n",
            " 6   Опыт работы                      44576 non-null  object\n",
            " 7   Последнее/нынешнее место работы  44743 non-null  object\n",
            " 8   Последняя/нынешняя должность     44742 non-null  object\n",
            " 9   Образование и ВУЗ                44744 non-null  object\n",
            " 10  Обновление резюме                44744 non-null  object\n",
            " 11  Авто                             44744 non-null  object\n",
            "dtypes: object(12)\n",
            "memory usage: 4.1+ MB\n",
            "------------------------------------------------------------\n",
            "Размерность датафрейма: 44744 строк и 12 столбцов.\n",
            "------------------------------------------------------------\n",
            "Пропущенные значения:\n"
          ]
        },
        {
          "output_type": "execute_result",
          "data": {
            "text/plain": [
              "Опыт работы                        168\n",
              "Последняя/нынешняя должность         2\n",
              "Последнее/нынешнее место работы      1\n",
              "dtype: int64"
            ]
          },
          "metadata": {},
          "execution_count": 5
        }
      ],
      "source": [
        "#ваш код здесь\n",
        "data.info()\n",
        "print('-' * 60)\n",
        "print(f'Размерность датафрейма: {data.shape[0]} строк и {data.shape[1]} столбцов.')\n",
        "print('-' * 60)\n",
        "print(\"Пропущенные значения:\")\n",
        "data.isnull().sum().sort_values().nlargest(3)"
      ]
    },
    {
      "cell_type": "markdown",
      "id": "9a8a2181-6914-448b-85f1-38f5f18b8a93",
      "metadata": {
        "id": "9a8a2181-6914-448b-85f1-38f5f18b8a93"
      },
      "source": [
        "5. Выведите основную статистическую информацию о столбцах.\n"
      ]
    },
    {
      "cell_type": "code",
      "execution_count": null,
      "id": "be4e9bd3-a4db-4a20-82fb-6b02fc2957e0",
      "metadata": {
        "id": "be4e9bd3-a4db-4a20-82fb-6b02fc2957e0",
        "colab": {
          "base_uri": "https://localhost:8080/",
          "height": 306
        },
        "outputId": "75751cc5-57f9-4531-88e2-621230e2af3b"
      },
      "outputs": [
        {
          "output_type": "display_data",
          "data": {
            "text/plain": [
              "                                         Пол, возраст          ЗП  \\\n",
              "count                                           44744       44744   \n",
              "unique                                          16003         690   \n",
              "top     Мужчина ,  32 года , родился 17 сентября 1986  50000 руб.   \n",
              "freq                                               18        4064   \n",
              "\n",
              "       Ищет работу на должность:  \\\n",
              "count                      44744   \n",
              "unique                     14929   \n",
              "top      Системный администратор   \n",
              "freq                        3099   \n",
              "\n",
              "                             Город, переезд, командировки         Занятость  \\\n",
              "count                                               44744             44744   \n",
              "unique                                              10063                38   \n",
              "top     Москва , не готов к переезду , не готов к кома...  полная занятость   \n",
              "freq                                                 1261             30026   \n",
              "\n",
              "             График                                        Опыт работы  \\\n",
              "count         44744                                              44576   \n",
              "unique           47                                              44413   \n",
              "top     полный день  Опыт работы 10 лет 8 месяцев  Апрель 2018 — по...   \n",
              "freq          22727                                                  3   \n",
              "\n",
              "                          Последнее/нынешнее место работы  \\\n",
              "count                                               44743   \n",
              "unique                                              30214   \n",
              "top     Индивидуальное предпринимательство / частная п...   \n",
              "freq                                                  935   \n",
              "\n",
              "       Последняя/нынешняя должность  \\\n",
              "count                         44742   \n",
              "unique                        16927   \n",
              "top         Системный администратор   \n",
              "freq                           2062   \n",
              "\n",
              "                                        Образование и ВУЗ Обновление резюме  \\\n",
              "count                                               44744             44744   \n",
              "unique                                              40148             18838   \n",
              "top     Высшее образование 1987 Военный инженерный Кра...  07.05.2019 09:50   \n",
              "freq                                                    4                25   \n",
              "\n",
              "              Авто  \n",
              "count        44744  \n",
              "unique           2  \n",
              "top     Не указано  \n",
              "freq         32268  "
            ],
            "text/html": [
              "\n",
              "  <div id=\"df-80f6e9f6-5c93-4838-a450-4491c147412a\">\n",
              "    <div class=\"colab-df-container\">\n",
              "      <div>\n",
              "<style scoped>\n",
              "    .dataframe tbody tr th:only-of-type {\n",
              "        vertical-align: middle;\n",
              "    }\n",
              "\n",
              "    .dataframe tbody tr th {\n",
              "        vertical-align: top;\n",
              "    }\n",
              "\n",
              "    .dataframe thead th {\n",
              "        text-align: right;\n",
              "    }\n",
              "</style>\n",
              "<table border=\"1\" class=\"dataframe\">\n",
              "  <thead>\n",
              "    <tr style=\"text-align: right;\">\n",
              "      <th></th>\n",
              "      <th>Пол, возраст</th>\n",
              "      <th>ЗП</th>\n",
              "      <th>Ищет работу на должность:</th>\n",
              "      <th>Город, переезд, командировки</th>\n",
              "      <th>Занятость</th>\n",
              "      <th>График</th>\n",
              "      <th>Опыт работы</th>\n",
              "      <th>Последнее/нынешнее место работы</th>\n",
              "      <th>Последняя/нынешняя должность</th>\n",
              "      <th>Образование и ВУЗ</th>\n",
              "      <th>Обновление резюме</th>\n",
              "      <th>Авто</th>\n",
              "    </tr>\n",
              "  </thead>\n",
              "  <tbody>\n",
              "    <tr>\n",
              "      <th>count</th>\n",
              "      <td>44744</td>\n",
              "      <td>44744</td>\n",
              "      <td>44744</td>\n",
              "      <td>44744</td>\n",
              "      <td>44744</td>\n",
              "      <td>44744</td>\n",
              "      <td>44576</td>\n",
              "      <td>44743</td>\n",
              "      <td>44742</td>\n",
              "      <td>44744</td>\n",
              "      <td>44744</td>\n",
              "      <td>44744</td>\n",
              "    </tr>\n",
              "    <tr>\n",
              "      <th>unique</th>\n",
              "      <td>16003</td>\n",
              "      <td>690</td>\n",
              "      <td>14929</td>\n",
              "      <td>10063</td>\n",
              "      <td>38</td>\n",
              "      <td>47</td>\n",
              "      <td>44413</td>\n",
              "      <td>30214</td>\n",
              "      <td>16927</td>\n",
              "      <td>40148</td>\n",
              "      <td>18838</td>\n",
              "      <td>2</td>\n",
              "    </tr>\n",
              "    <tr>\n",
              "      <th>top</th>\n",
              "      <td>Мужчина ,  32 года , родился 17 сентября 1986</td>\n",
              "      <td>50000 руб.</td>\n",
              "      <td>Системный администратор</td>\n",
              "      <td>Москва , не готов к переезду , не готов к кома...</td>\n",
              "      <td>полная занятость</td>\n",
              "      <td>полный день</td>\n",
              "      <td>Опыт работы 10 лет 8 месяцев  Апрель 2018 — по...</td>\n",
              "      <td>Индивидуальное предпринимательство / частная п...</td>\n",
              "      <td>Системный администратор</td>\n",
              "      <td>Высшее образование 1987 Военный инженерный Кра...</td>\n",
              "      <td>07.05.2019 09:50</td>\n",
              "      <td>Не указано</td>\n",
              "    </tr>\n",
              "    <tr>\n",
              "      <th>freq</th>\n",
              "      <td>18</td>\n",
              "      <td>4064</td>\n",
              "      <td>3099</td>\n",
              "      <td>1261</td>\n",
              "      <td>30026</td>\n",
              "      <td>22727</td>\n",
              "      <td>3</td>\n",
              "      <td>935</td>\n",
              "      <td>2062</td>\n",
              "      <td>4</td>\n",
              "      <td>25</td>\n",
              "      <td>32268</td>\n",
              "    </tr>\n",
              "  </tbody>\n",
              "</table>\n",
              "</div>\n",
              "      <button class=\"colab-df-convert\" onclick=\"convertToInteractive('df-80f6e9f6-5c93-4838-a450-4491c147412a')\"\n",
              "              title=\"Convert this dataframe to an interactive table.\"\n",
              "              style=\"display:none;\">\n",
              "        \n",
              "  <svg xmlns=\"http://www.w3.org/2000/svg\" height=\"24px\"viewBox=\"0 0 24 24\"\n",
              "       width=\"24px\">\n",
              "    <path d=\"M0 0h24v24H0V0z\" fill=\"none\"/>\n",
              "    <path d=\"M18.56 5.44l.94 2.06.94-2.06 2.06-.94-2.06-.94-.94-2.06-.94 2.06-2.06.94zm-11 1L8.5 8.5l.94-2.06 2.06-.94-2.06-.94L8.5 2.5l-.94 2.06-2.06.94zm10 10l.94 2.06.94-2.06 2.06-.94-2.06-.94-.94-2.06-.94 2.06-2.06.94z\"/><path d=\"M17.41 7.96l-1.37-1.37c-.4-.4-.92-.59-1.43-.59-.52 0-1.04.2-1.43.59L10.3 9.45l-7.72 7.72c-.78.78-.78 2.05 0 2.83L4 21.41c.39.39.9.59 1.41.59.51 0 1.02-.2 1.41-.59l7.78-7.78 2.81-2.81c.8-.78.8-2.07 0-2.86zM5.41 20L4 18.59l7.72-7.72 1.47 1.35L5.41 20z\"/>\n",
              "  </svg>\n",
              "      </button>\n",
              "      \n",
              "  <style>\n",
              "    .colab-df-container {\n",
              "      display:flex;\n",
              "      flex-wrap:wrap;\n",
              "      gap: 12px;\n",
              "    }\n",
              "\n",
              "    .colab-df-convert {\n",
              "      background-color: #E8F0FE;\n",
              "      border: none;\n",
              "      border-radius: 50%;\n",
              "      cursor: pointer;\n",
              "      display: none;\n",
              "      fill: #1967D2;\n",
              "      height: 32px;\n",
              "      padding: 0 0 0 0;\n",
              "      width: 32px;\n",
              "    }\n",
              "\n",
              "    .colab-df-convert:hover {\n",
              "      background-color: #E2EBFA;\n",
              "      box-shadow: 0px 1px 2px rgba(60, 64, 67, 0.3), 0px 1px 3px 1px rgba(60, 64, 67, 0.15);\n",
              "      fill: #174EA6;\n",
              "    }\n",
              "\n",
              "    [theme=dark] .colab-df-convert {\n",
              "      background-color: #3B4455;\n",
              "      fill: #D2E3FC;\n",
              "    }\n",
              "\n",
              "    [theme=dark] .colab-df-convert:hover {\n",
              "      background-color: #434B5C;\n",
              "      box-shadow: 0px 1px 3px 1px rgba(0, 0, 0, 0.15);\n",
              "      filter: drop-shadow(0px 1px 2px rgba(0, 0, 0, 0.3));\n",
              "      fill: #FFFFFF;\n",
              "    }\n",
              "  </style>\n",
              "\n",
              "      <script>\n",
              "        const buttonEl =\n",
              "          document.querySelector('#df-80f6e9f6-5c93-4838-a450-4491c147412a button.colab-df-convert');\n",
              "        buttonEl.style.display =\n",
              "          google.colab.kernel.accessAllowed ? 'block' : 'none';\n",
              "\n",
              "        async function convertToInteractive(key) {\n",
              "          const element = document.querySelector('#df-80f6e9f6-5c93-4838-a450-4491c147412a');\n",
              "          const dataTable =\n",
              "            await google.colab.kernel.invokeFunction('convertToInteractive',\n",
              "                                                     [key], {});\n",
              "          if (!dataTable) return;\n",
              "\n",
              "          const docLinkHtml = 'Like what you see? Visit the ' +\n",
              "            '<a target=\"_blank\" href=https://colab.research.google.com/notebooks/data_table.ipynb>data table notebook</a>'\n",
              "            + ' to learn more about interactive tables.';\n",
              "          element.innerHTML = '';\n",
              "          dataTable['output_type'] = 'display_data';\n",
              "          await google.colab.output.renderOutput(dataTable, element);\n",
              "          const docLink = document.createElement('div');\n",
              "          docLink.innerHTML = docLinkHtml;\n",
              "          element.appendChild(docLink);\n",
              "        }\n",
              "      </script>\n",
              "    </div>\n",
              "  </div>\n",
              "  "
            ]
          },
          "metadata": {}
        }
      ],
      "source": [
        "#ваш код здесь\n",
        "display(data.describe(include=object))"
      ]
    },
    {
      "cell_type": "markdown",
      "id": "8d62a9f3-f64e-4fe7-bdac-c4dffa16155e",
      "metadata": {
        "id": "8d62a9f3-f64e-4fe7-bdac-c4dffa16155e"
      },
      "source": [
        "# Преобразование данных"
      ]
    },
    {
      "cell_type": "markdown",
      "id": "93053d3d-b284-481a-9cf7-012d7014c0e0",
      "metadata": {
        "id": "93053d3d-b284-481a-9cf7-012d7014c0e0"
      },
      "source": [
        "1. Начнем с простого - с признака **\"Образование и ВУЗ\"**. Его текущий формат это: **<Уровень образования год выпуска ВУЗ специальность...>**. Например:\n",
        "* Высшее образование 2016 Московский авиационный институт (национальный исследовательский университет)...\n",
        "* Неоконченное высшее образование 2000  Балтийская государственная академия рыбопромыслового флота…\n",
        "Нас будет интересовать только уровень образования.\n",
        "\n",
        "Создайте с помощью функции-преобразования новый признак **\"Образование\"**, который должен иметь 4 категории: \"высшее\", \"неоконченное высшее\", \"среднее специальное\" и \"среднее\".\n",
        "\n",
        "Выполните преобразование, ответьте на контрольные вопросы и удалите признак \"Образование и ВУЗ\".\n",
        "\n",
        "Совет: обратите внимание на структуру текста в столбце **\"Образование и ВУЗ\"**. Гарантируется, что текущий уровень образования соискателя всегда находится в первых 2ух слов и начинается с заглавной буквы. Воспользуйтесь этим.\n",
        "\n",
        "*Совет: проверяйте полученные категории, например, с помощью метода unique()*\n"
      ]
    },
    {
      "cell_type": "code",
      "execution_count": null,
      "id": "3f069da6-fdc9-4ae7-b514-fafe2675efd3",
      "metadata": {
        "id": "3f069da6-fdc9-4ae7-b514-fafe2675efd3",
        "colab": {
          "base_uri": "https://localhost:8080/"
        },
        "outputId": "89b79755-1ce9-48d1-cb65-b075825d9147"
      },
      "outputs": [
        {
          "output_type": "stream",
          "name": "stdout",
          "text": [
            "559 соискателей имеет средний уровень образования.\n"
          ]
        }
      ],
      "source": [
        "#ваш код здесь\n",
        "def get_edu_level(education):\n",
        "  '''Функция для извлечения уровня образования\n",
        "  Args: на вход подается строка с указанием уровня образования, учебным заведением и годом окончания\n",
        "  Returns: результат отображает уровень образования кандидата без дополнительной информации'''\n",
        "  education = education.split()[0:3]\n",
        "  if 'Высшее' in education: \n",
        "    return 'высшее'\n",
        "  if 'Неоконченное' in education: \n",
        "    return 'неоконченное высшее'\n",
        "  if 'специальное' in education: \n",
        "    return 'среднее специальное' \n",
        "  else:  \n",
        "    return 'среднее'\n",
        "\n",
        "data['Образование'] = data['Образование и ВУЗ'].apply(get_edu_level)\n",
        "print(data['Образование'].value_counts()['среднее'], 'соискателей имеет средний уровень образования.')\n",
        "\n",
        "data = data.drop('Образование и ВУЗ', axis=1)"
      ]
    },
    {
      "cell_type": "markdown",
      "id": "4266f0b6-1646-492a-88b4-2f6a46502135",
      "metadata": {
        "id": "4266f0b6-1646-492a-88b4-2f6a46502135"
      },
      "source": [
        "2. Теперь нас интересует столбец **\"Пол, возраст\"**. Сейчас он представлен в формате **<Пол , возраст , дата рождения >**. Например:\n",
        "* Мужчина , 39 лет , родился 27 ноября 1979 \n",
        "* Женщина , 21 год , родилась 13 января 2000\n",
        "Как вы понимаете, нам необходимо выделить каждый параметр в отдельный столбец.\n",
        "\n",
        "Создайте два новых признака **\"Пол\"** и **\"Возраст\"**. При этом важно учесть:\n",
        "* Признак пола должен иметь 2 уникальных строковых значения: 'М' - мужчина, 'Ж' - женщина. \n",
        "* Признак возраста должен быть представлен целыми числами.\n",
        "\n",
        "Выполните преобразование, ответьте на контрольные вопросы и удалите признак **\"Пол, возраст\"** из таблицы.\n",
        "\n",
        "*Совет: обратите внимание на структуру текста в столбце, в части на то, как разделены параметры пола, возраста и даты рождения между собой - символом ' , '. \n",
        "Гарантируется, что структура одинакова для всех строк в таблице. Вы можете воспользоваться этим.*\n"
      ]
    },
    {
      "cell_type": "code",
      "execution_count": null,
      "id": "0c44b350-72eb-4d65-8b54-a1fc449ba9fd",
      "metadata": {
        "id": "0c44b350-72eb-4d65-8b54-a1fc449ba9fd",
        "colab": {
          "base_uri": "https://localhost:8080/"
        },
        "outputId": "6de3398a-a854-4321-cde6-4cb4bb10410e"
      },
      "outputs": [
        {
          "output_type": "stream",
          "name": "stdout",
          "text": [
            "19.07 процентов женских резюме представлено в данных.\n",
            "32.2 средний возраст соискателей.\n"
          ]
        }
      ],
      "source": [
        "#ваш код здесь\n",
        "\n",
        "data['Пол'] = data['Пол, возраст'].apply(lambda x: x.split(',')[0][0])                         #создание признака ['Пол']\n",
        "data['Возраст'] = data['Пол, возраст'].apply(lambda x: x.split(',')[1].split()[0]).astype(int) #создание признака ['Возраст']\n",
        "\n",
        "print(round(data['Пол'].value_counts(normalize=True)[\"Ж\"]*100,2),\n",
        "'процентов женских резюме представлено в данных.')\n",
        "print(round(data['Возраст'].mean() ,1),\n",
        "'средний возраст соискателей.')\n",
        "\n",
        "data = data.drop('Пол, возраст', axis=1)"
      ]
    },
    {
      "cell_type": "markdown",
      "id": "635c4d5d-f323-4c66-b428-50a088120aa0",
      "metadata": {
        "id": "635c4d5d-f323-4c66-b428-50a088120aa0"
      },
      "source": [
        "3. Следующим этапом преобразуем признак **\"Опыт работы\"**. Его текущий формат - это: **<Опыт работы: n лет m месяцев, периоды работы в различных компаниях…>**. \n",
        "\n",
        "Из столбца нам необходимо выделить общий опыт работы соискателя в месяцах, новый признак назовем \"Опыт работы (месяц)\"\n",
        "\n",
        "Для начала обсудим условия решения задачи:\n",
        "* Во-первых, в данном признаке есть пропуски. Условимся, что если мы встречаем пропуск, оставляем его как есть (функция-преобразование возвращает NaN)\n",
        "* Во-вторых, в данном признаке есть скрытые пропуски. Для некоторых соискателей в столбце стоит значения \"Не указано\". Их тоже обозначим как NaN (функция-преобразование возвращает NaN)\n",
        "* В-третьих, нас не интересует информация, которая описывается после указания опыта работы (периоды работы в различных компаниях)\n",
        "* В-четвертых, у нас есть проблема: опыт работы может быть представлен только в годах или только месяцах. Например, можно встретить следующие варианты:\n",
        "    * Опыт работы 3 года 2 месяца…\n",
        "    * Опыт работы 4 года…\n",
        "    * Опыт работы 11 месяцев…\n",
        "    * Учитывайте эту особенность в вашем коде\n",
        "\n",
        "Учитывайте эту особенность в вашем коде\n",
        "\n",
        "В результате преобразования у вас должен получиться столбец, содержащий информацию о том, сколько месяцев проработал соискатель.\n",
        "Выполните преобразование, ответьте на контрольные вопросы и удалите столбец **\"Опыт работы\"** из таблицы.\n"
      ]
    },
    {
      "cell_type": "code",
      "execution_count": null,
      "id": "603cdbe4-0ec3-4106-8eaf-c73fcdd29165",
      "metadata": {
        "id": "603cdbe4-0ec3-4106-8eaf-c73fcdd29165",
        "colab": {
          "base_uri": "https://localhost:8080/"
        },
        "outputId": "9dc0e19f-93dd-4e83-801d-24cee96194d7"
      },
      "outputs": [
        {
          "output_type": "stream",
          "name": "stdout",
          "text": [
            "Медианный опыт работы в месяцах равен 100\n"
          ]
        }
      ],
      "source": [
        "#ваш код здесь\n",
        "def get_job_experience(experience):\n",
        "  '''Функция для пересчета продолжительности опыта работы в месяцах\n",
        "    Arg: на вход подается строка формата \"n лет m месяцев\"\n",
        "    Return: результат 12*n+m месяцев'''\n",
        "  if experience == \"Не указано\" or experience is np.nan:\n",
        "    return np.nan\n",
        "  else:\n",
        "    years = 0\n",
        "    months = 0\n",
        "    experience = experience.split()[:6]\n",
        "    if experience[3] in ['год', 'года', 'лет']:\n",
        "        years += int(experience[2])\n",
        "        months = 12*years\n",
        "    if experience[3] in ['месяц', 'месяца', 'месяцев']:\n",
        "        months += int(experience[2])\n",
        "    if experience[5] in ['месяц', 'месяца', 'месяцев']:\n",
        "        months += int(experience[4])\n",
        "    return months\n",
        "\n",
        "data['Опыт работы (месяц)'] = data['Опыт работы'].apply(get_job_experience)                # создание нового признака\n",
        "print('Медианный опыт работы в месяцах равен', int(data['Опыт работы (месяц)'].median()))\n",
        "\n",
        "data = data.drop('Опыт работы', axis=1)"
      ]
    },
    {
      "cell_type": "markdown",
      "id": "f3fdaec9-5fd3-4260-9cf5-1d7406b628a5",
      "metadata": {
        "id": "f3fdaec9-5fd3-4260-9cf5-1d7406b628a5"
      },
      "source": [
        "4. Хорошо идем! Следующий на очереди признак \"Город, переезд, командировки\". Информация в нем представлена в следующем виде: **<Город , (метро) , готовность к переезду (города для переезда) , готовность к командировкам>**. В скобках указаны необязательные параметры строки. Например, можно встретить следующие варианты:\n",
        "\n",
        "* Москва , не готов к переезду , готов к командировкам\n",
        "* Москва , м. Беломорская , не готов к переезду, не готов к командировкам\n",
        "* Воронеж , готов к переезду (Сочи, Москва, Санкт-Петербург) , готов к командировкам\n",
        "\n",
        "Создадим отдельные признаки **\"Город\"**, **\"Готовность к переезду\"**, **\"Готовность к командировкам\"**. При этом важно учесть:\n",
        "\n",
        "* Признак **\"Город\"** должен содержать только 4 категории: \"Москва\", \"Санкт-Петербург\" и \"город-миллионник\" (их список ниже), остальные обозначьте как \"другие\".\n",
        "\n",
        "    Список городов-миллионников:\n",
        "    \n",
        "   <code>million_cities = ['Новосибирск', 'Екатеринбург','Нижний Новгород','Казань', 'Челябинск','Омск', 'Самара', 'Ростов-на-Дону', 'Уфа', 'Красноярск', 'Пермь', 'Воронеж','Волгоград']\n",
        "    </code>\n",
        "    Инфорация о метро, рядом с которым проживает соискатель нас не интересует.\n",
        "* Признак **\"Готовность к переезду\"** должен иметь два возможных варианта: True или False. Обратите внимание, что возможны несколько вариантов описания готовности к переезду в признаке \"Город, переезд, командировки\". Например:\n",
        "    * … , готов к переезду , …\n",
        "    * … , не готова к переезду , …\n",
        "    * … , готова к переезду (Москва, Санкт-Петербург, Ростов-на-Дону)\n",
        "    * … , хочу переехать (США) , …\n",
        "    \n",
        "    Нас интересует только сам факт возможности или желания переезда.\n",
        "* Признак **\"Готовность к командировкам\"** должен иметь два возможных варианта: True или False. Обратите внимание, что возможны несколько вариантов описания готовности к командировкам в признаке \"Город, переезд, командировки\". Например:\n",
        "    * … , готов к командировкам , … \n",
        "    * … , готова к редким командировкам , …\n",
        "    * … , не готов к командировкам , …\n",
        "    \n",
        "    Нас интересует только сам факт готовности к командировке.\n",
        "    \n",
        "    Еще один важный факт: при выгрузки данных у некоторых соискателей \"потерялась\" информация о готовности к командировкам. Давайте по умолчанию будем считать, что такие соискатели не готовы к командировкам.\n",
        "    \n",
        "Выполните преобразования и удалите столбец **\"Город, переезд, командировки\"** из таблицы.\n",
        "\n",
        "*Совет: обратите внимание на то, что структура текста может меняться в зависимости от указания ближайшего метро. Учите это, если будете использовать порядок слов в своей программе.*\n"
      ]
    },
    {
      "cell_type": "code",
      "execution_count": null,
      "id": "1ea710ec-871b-431e-9462-c7d0fd87011b",
      "metadata": {
        "id": "1ea710ec-871b-431e-9462-c7d0fd87011b",
        "colab": {
          "base_uri": "https://localhost:8080/"
        },
        "outputId": "95ce43eb-92ac-48b0-83dc-542e2cea2321"
      },
      "outputs": [
        {
          "output_type": "stream",
          "name": "stdout",
          "text": [
            "11 процентов соискателей живут в Санкт-Петербурге.\n",
            "32.0 процентов соискателей готовы одновременно и к переездам, и к командировкам.\n"
          ]
        }
      ],
      "source": [
        "#ваш код здесь\n",
        "\n",
        "def get_city(city):\n",
        "  '''Функция для извлечения типа города\n",
        "     Arg: на вход подается строка с детальным указанием населенного пункта\n",
        "     Return: получаем тип города, где находится в данное время соискатель'''\n",
        "\n",
        "  million_cities = ['Новосибирск', 'Екатеринбург','Нижний Новгород','Казань', 'Челябинск',\n",
        "                    'Омск', 'Самара', 'Ростов-на-Дону', 'Уфа', 'Красноярск', 'Пермь', 'Воронеж','Волгоград']\n",
        "  city = city.split(',')[0].rstrip()\n",
        "  if 'Москва' in city:\n",
        "    return city\n",
        "  if 'Санкт-Петербург'  in city:\n",
        "    return city\n",
        "  if city.rstrip() in million_cities:\n",
        "    return 'город-миллионник'\n",
        "  else: \n",
        "    return 'другие'\n",
        "\n",
        "data['Город'] = data['Город, переезд, командировки'].apply(get_city)\n",
        "\n",
        "###\n",
        "# выявляем готовность к переезду\n",
        "data['Готовность к переезду'] = data['Город, переезд, командировки'].apply(lambda x: True if 'не' not in x.split(',')[-2] else False)\n",
        "\n",
        "###\n",
        "def get_business_trip(trip):\n",
        "  '''Функция для выявления готовности кандидата к командировкам\n",
        "     Arg: на вход подается строка, где кандидат указывает готовность к командировкам\n",
        "     Return: True или False'''\n",
        "\n",
        "  readiness = ['готов к редким командировкам', 'готова к командировкам', 'готов к командировкам', 'готова к редким командировкам']\n",
        "  trip = trip.split(',')[-1]\n",
        "  if trip.lstrip() in readiness: \n",
        "    return True\n",
        "  else:\n",
        "    return False\n",
        "\n",
        "data['Готовность к командировкам'] = data['Город, переезд, командировки'].apply(get_business_trip)\n",
        "\n",
        "###\n",
        "print(int(data['Город'].value_counts(normalize=True)['Санкт-Петербург']*100), \"процентов соискателей живут в Санкт-Петербурге.\")\n",
        "mask = data[(data[\"Готовность к переезду\"] == True) & (data[\"Готовность к командировкам\"] == True)]\n",
        "print(round((mask.shape[0] / data.shape[0])*100, 0), \"процентов соискателей готовы одновременно и к переездам, и к командировкам.\")\n",
        "\n",
        "###\n",
        "data = data.drop('Город, переезд, командировки', axis=1)"
      ]
    },
    {
      "cell_type": "markdown",
      "id": "0136ffee-0ead-4a6b-b608-61d1c753a438",
      "metadata": {
        "id": "0136ffee-0ead-4a6b-b608-61d1c753a438"
      },
      "source": [
        "5. Рассмотрим поближе признаки **\"Занятость\"** и **\"График\"**. Сейчас признаки представляют собой набор категорий желаемой занятости (полная занятость, частичная занятость, проектная работа, волонтерство, стажировка) и желаемого графика работы (полный день, сменный график, гибкий график, удаленная работа, вахтовый метод).\n",
        "На сайте hh.ru соискатель может указывать различные комбинации данных категорий, например:\n",
        "* полная занятость, частичная занятость\n",
        "* частичная занятость, проектная работа, волонтерство\n",
        "* полный день, удаленная работа\n",
        "* вахтовый метод, гибкий график, удаленная работа, полная занятость\n",
        "\n",
        "Такой вариант признаков имеет множество различных комбинаций, а значит множество уникальных значений, что мешает анализу. Нужно это исправить!\n",
        "\n",
        "Давайте создадим признаки-мигалки для каждой категории: если категория присутствует в списке желаемых соискателем, то в столбце на месте строки рассматриваемого соискателя ставится True, иначе - False.\n",
        "\n",
        "Такой метод преобразования категориальных признаков называется One Hot Encoding и его схема представлена на рисунке ниже:\n",
        "<img src=https://raw.githubusercontent.com/AndreyRysistov/DatasetsForPandas/main/ohe.jpg>\n",
        "Выполните данное преобразование для признаков \"Занятость\" и \"График\", ответьте на контрольные вопросы, после чего удалите их из таблицы"
      ]
    },
    {
      "cell_type": "code",
      "execution_count": null,
      "id": "5b3a8e79-f7ab-4008-b767-12aea3a205ea",
      "metadata": {
        "id": "5b3a8e79-f7ab-4008-b767-12aea3a205ea",
        "colab": {
          "base_uri": "https://localhost:8080/"
        },
        "outputId": "84e7c146-8398-4032-9e26-4b851e5084ba"
      },
      "outputs": [
        {
          "output_type": "stream",
          "name": "stdout",
          "text": [
            "436 людей ищут проектную работу и волонтёрство\n",
            "\n",
            "2311 людей хотят работать вахтовым методом и с гибким графиком\n"
          ]
        }
      ],
      "source": [
        "#ваш код здесь\n",
        "\n",
        "employment = ['полная занятость', 'частичная занятость', 'проектная работа', 'стажировка', 'волонтерство'] #виды занятости\n",
        "shedule = ['полный день', 'сменный график', 'гибкий график', 'удаленная работа', 'вахтовый метод']         #виды графика работы\n",
        "\n",
        "for empl, shed in zip(employment, shedule):\n",
        "  # создаем новые признаки занятости и графика чтобы выяснить предпочтения соискателя по занятости и графику\n",
        "  data[empl] = data['Занятость'].apply(lambda x: empl in x)\n",
        "  data[shed] = data['График'].apply(lambda x: shed in x)\n",
        "\n",
        "###\n",
        "print(data[(data['проектная работа'] == True) & (data['волонтерство'] == True)].shape[0],'людей ищут проектную работу и волонтёрство')\n",
        "print()\n",
        "print(data[(data['вахтовый метод'] == True) & (data['гибкий график'] == True)].shape[0],'людей хотят работать вахтовым методом и с гибким графиком')\n",
        "\n",
        "###\n",
        "data = data.drop(['Занятость', 'График'], axis=1)"
      ]
    },
    {
      "cell_type": "markdown",
      "id": "344f123c-b63b-43dd-a8a4-809c1f1bb443",
      "metadata": {
        "id": "344f123c-b63b-43dd-a8a4-809c1f1bb443"
      },
      "source": [
        "6. (2 балла) Наконец, мы добрались до самого главного и самого важного - признака заработной платы **\"ЗП\"**. \n",
        "В чем наша беда? В том, что помимо желаемой заработной платы соискатель указывает валюту, в которой он бы хотел ее получать, например:\n",
        "* 30000 руб.\n",
        "* 50000 грн.\n",
        "* 550 USD\n",
        "\n",
        "Нам бы хотелось видеть заработную плату в единой валюте, например, в рублях. Возникает вопрос, а где взять курс валют по отношению к рублю?\n",
        "\n",
        "На самом деле язык Python имеет в арсенале огромное количество возможностей получения данной информации, от обращения к API Центробанка, до использования специальных библиотек, например pycbrf. Однако, это не тема нашего проекта.\n",
        "\n",
        "Поэтому мы пойдем в лоб: обратимся к специальным интернет-ресурсам для получения данных о курсе в виде текстовых файлов. Например, MDF.RU, данный ресурс позволяет удобно экспортировать данные о курсах различных валют и акций за указанные периоды в виде csv файлов. Мы уже сделали выгрузку курсов валют, которые встречаются в наших данных за период с 29.12.2017 по 05.12.2019. Скачать ее вы можете **на платформе**\n",
        "\n",
        "Создайте новый DataFrame из полученного файла. В полученной таблице нас будут интересовать столбцы:\n",
        "* \"currency\" - наименование валюты в ISO кодировке,\n",
        "* \"date\" - дата, \n",
        "* \"proportion\" - пропорция, \n",
        "* \"close\" - цена закрытия (последний зафиксированный курс валюты на указанный день).\n",
        "\n",
        "\n",
        "Перед вами таблица соответствия наименований иностранных валют в наших данных и их общепринятых сокращений, которые представлены в нашем файле с курсами валют. Пропорция - это число, за сколько единиц валюты указан курс в таблице с курсами. Например, для казахстанского тенге курс на 20.08.2019 составляет 17.197 руб. за 100 тенге, тогда итоговый курс равен - 17.197 / 100 = 0.17197 руб за 1 тенге.\n",
        "Воспользуйтесь этой информацией в ваших преобразованиях.\n",
        "\n",
        "<img src=https://raw.githubusercontent.com/AndreyRysistov/DatasetsForPandas/main/table.jpg>\n",
        "\n",
        "\n",
        "Осталось только понять, откуда брать дату, по которой определяется курс? А вот же она - в признаке **\"Обновление резюме\"**, в нем содержится дата и время, когда соискатель выложил текущий вариант своего резюме. Нас интересует только дата, по ней бы и будем сопоставлять курсы валют.\n",
        "\n",
        "Теперь у нас есть вся необходимая информация для того, чтобы создать признак \"ЗП (руб)\" - заработная плата в рублях.\n",
        "\n",
        "После ответа на контрольные вопросы удалите исходный столбец заработной платы \"ЗП\" и все промежуточные столбцы, если вы их создавали."
      ]
    },
    {
      "cell_type": "markdown",
      "id": "6d794257-61f5-4124-956b-67b92b9391a7",
      "metadata": {
        "tags": [],
        "id": "6d794257-61f5-4124-956b-67b92b9391a7"
      },
      "source": [
        "Итак, давайте обсудим возможный алгоритм преобразования: \n",
        "1. Перевести признак \"Обновление резюме\" из таблицы с резюме в формат datetime и достать из него дату. В тот же формат привести признак \"date\" из таблицы с валютами.\n",
        "2. Выделить из столбца \"ЗП\" сумму желаемой заработной платы и наименование валюты, в которой она исчисляется. Наименование валюты перевести в стандарт ISO согласно с таблицей выше.\n",
        "3. Присоединить к таблице с резюме таблицу с курсами по столбцам с датой и названием валюты (подумайте, какой тип объединения надо выбрать, чтобы в таблице с резюме сохранились данные о заработной плате, изначально представленной в рублях). Значение close для рубля заполнить единицей 1 (курс рубля самого к себе)\n",
        "4. Умножить сумму желаемой заработной платы на присоединенный курс валюты (close) и разделить на пропорцию (обратите внимание на пропуски после объединения в этих столбцах), результат занести в новый столбец \"ЗП (руб)\".\n"
      ]
    },
    {
      "cell_type": "code",
      "source": [
        "# для скачивания с Google Drive\n",
        "'''\n",
        "path = '/content/drive/MyDrive/Data_Science/Project_1_HH/ExchangeRates.csv'\n",
        "currency_df = pd.read_csv(path, sep=',')'''"
      ],
      "metadata": {
        "id": "IsB_IdHUdzVh"
      },
      "id": "IsB_IdHUdzVh",
      "execution_count": null,
      "outputs": []
    },
    {
      "cell_type": "code",
      "execution_count": null,
      "id": "e91f87ed-e25c-4f96-9f92-b642e8c0b4fa",
      "metadata": {
        "id": "e91f87ed-e25c-4f96-9f92-b642e8c0b4fa",
        "colab": {
          "base_uri": "https://localhost:8080/"
        },
        "outputId": "84cdc144-4a92-4e0d-d8c6-af92e12a6d6b"
      },
      "outputs": [
        {
          "output_type": "stream",
          "name": "stdout",
          "text": [
            "59019.0 - медианная заработная плата в рублях\n"
          ]
        }
      ],
      "source": [
        "#ваш код здесь\n",
        "currency_df = pd.read_csv('ExchangeRates.csv', sep=',')\n",
        "currency_df['exchange_rates'] = currency_df.close / currency_df.proportion           # просчитыем курс в рублях из расчета на 1 ед.валюты\n",
        "currency_df.drop(['per', 'vol', 'time', 'close', 'proportion'], axis=1, inplace=True)# и удалим ненужные признаки\n",
        "\n",
        "currency_df['date'] = pd.to_datetime(currency_df['date']).dt.date                    # перевод хронологических признаков в формат datetime\n",
        "data['Обновление резюме'] = pd.to_datetime(data['Обновление резюме']).dt.date\n",
        "\n",
        "###\n",
        "def currency_mode(currency):\n",
        "  '''Функция для перевода названия валюты в стандарт ISO \n",
        "     Arg: на вход подается строка, которая содержит размер зарплаты и наименование валюты\n",
        "     Return: название валюты переведено в международный стандарт'''\n",
        "  currency = currency.split()[1].replace('.', '')\n",
        "  if currency == 'белруб':\n",
        "    return 'BYN'\n",
        "  if currency == 'грн':\n",
        "    return 'UAH'\n",
        "  if currency == 'сум':\n",
        "    return 'UZS'\n",
        "  if currency == 'руб':\n",
        "    return 'RUB'\n",
        "  else:\n",
        "    return currency\n",
        "    \n",
        "data['Валюта'] = data['ЗП'].apply(currency_mode)                     # создаем новый признак и вытягиваем название валюты\n",
        "\n",
        "data['ЗП'] = data['ЗП'].apply(lambda x: x.split()[0]).astype(float)  # убираем название валюты, оставляем числовой признак - размер зарплаты\n",
        "\n",
        "###\n",
        "#Объединяем таблицы и заполняем пропуски курса рубля\n",
        "merged = data.merge(currency_df, how='left', left_on=['Валюта', 'Обновление резюме'], right_on=['currency','date'])\n",
        "merged['exchange_rates'] = merged['exchange_rates'].fillna(1)\n",
        "\n",
        "#пересчитываем зарплату в рублях\n",
        "data['ЗП (руб)'] = data['ЗП'] * merged['exchange_rates']\n",
        "print(data['ЗП (руб)'].median(), '- медианная заработная плата в рублях')\n",
        "\n",
        "###\n",
        "data = data.drop(['ЗП', 'Валюта'], axis=1)"
      ]
    },
    {
      "cell_type": "markdown",
      "id": "7ea20ab6-04a7-40a0-adec-443a0e5a42c3",
      "metadata": {
        "id": "7ea20ab6-04a7-40a0-adec-443a0e5a42c3"
      },
      "source": [
        "# Исследование зависимостей в данных"
      ]
    },
    {
      "cell_type": "markdown",
      "id": "968aed80-74ef-4ffb-b5bf-c65b84e9caea",
      "metadata": {
        "id": "968aed80-74ef-4ffb-b5bf-c65b84e9caea"
      },
      "source": [
        "1. Постройте распределение признака **\"Возраст\"**. Опишите распределение, отвечая на следующие вопросы: чему равна мода распределения, каковы предельные значения признака, в каком примерном интервале находится возраст большинства соискателей? Есть ли аномалии для признака возраста, какие значения вы бы причислили к их числу?\n",
        "*Совет: постройте гистограмму и коробчатую диаграмму рядом.*"
      ]
    },
    {
      "cell_type": "code",
      "execution_count": null,
      "id": "f2d62796-d400-4ec1-a675-88112739a50e",
      "metadata": {
        "id": "f2d62796-d400-4ec1-a675-88112739a50e",
        "colab": {
          "base_uri": "https://localhost:8080/",
          "height": 419
        },
        "outputId": "7b49775c-b042-4cb1-f55b-5f4041ca1143"
      },
      "outputs": [
        {
          "output_type": "display_data",
          "data": {
            "text/plain": [
              "<Figure size 1008x432 with 2 Axes>"
            ],
            "image/png": "[encoded data removed]"
          },
          "metadata": {
            "needs_background": "light"
          }
        },
        {
          "output_type": "stream",
          "name": "stdout",
          "text": [
            "Мода: 30, мин.значение: 14, макс.значение: 100\n"
          ]
        }
      ],
      "source": [
        "# ваш код здесь\n",
        "\n",
        "fig, axes = plt.subplots(nrows=1, ncols=2, figsize=(14, 6))\n",
        "plt.title('Распределение соискателей по возрастам')\n",
        "plt.xlabel('Возраст кандидата') \n",
        "plt.ylabel('Количество кандидатов')\n",
        "plt.grid()\n",
        "\n",
        "axes[0].set_title('Гистограмма распределения возраста соискателей', fontsize=11)\n",
        "sns.histplot(\n",
        "    data=data['Возраст'],\n",
        "    bins=20,\n",
        "    kde=True,\n",
        "    ax=axes[0]\n",
        "    )\n",
        "\n",
        "axes[1].set_title('Коробчатая диаграмма распределение возраста соискателей', fontsize=11)\n",
        "sns.boxplot(\n",
        "    data=data['Возраст'], \n",
        "    orient='v', \n",
        "    width=0.9,\n",
        "    medianprops={'color': 'red'}\n",
        "    )\n",
        "\n",
        "plt.show()\n",
        "\n",
        "dist_mode = int(data['Возраст'].mode())\n",
        "dist_min, dist_max = int(data['Возраст'].min()), int(data['Возраст'].max())\n",
        "\n",
        "print(f'Мода: {dist_mode}, мин.значение: {dist_min}, макс.значение: {dist_max}')"
      ]
    },
    {
      "cell_type": "markdown",
      "id": "88967466-5070-4bea-9e71-b3efefdc6e4a",
      "metadata": {
        "id": "88967466-5070-4bea-9e71-b3efefdc6e4a"
      },
      "source": [
        "Распределение логнормальное, мода равна 30, и медиана примерно на том же уровне. Возраст большинства соискателей колеблется примерно от 27 до 36 лет. Предельные значения (минимум и максимум) - 14 и 100. \n",
        "В распределении есть аномальные значения, и это в первую очередь возраст 100 лет. Также стоит присмотреться к кандидатам более 65 лет на наличие ошибки, потому что часто:\n",
        "1.   в этом возрасте люди уходят на пенсию;\n",
        "2.   находят работу через знакомых/бывших коллег и не будут привыкать к новому коллективу;\n",
        "3.   имеют сбережения/доли в бизнесе/живут на пенсию.\n",
        "\n",
        "Соискатель, который указал возраст 14 лет, имеет опыт работы больше 39 лет (477 месяцев), что является однозначно ошибкой.\n",
        "\n",
        "\n",
        "\n",
        "\n"
      ]
    },
    {
      "cell_type": "markdown",
      "id": "68377cfc-b378-43dc-ab7d-1195abf2c515",
      "metadata": {
        "id": "68377cfc-b378-43dc-ab7d-1195abf2c515"
      },
      "source": [
        "2. Постройте распределение признака **\"Опыт работы (месяц)\"**. Опишите данное распределение, отвечая на следующие вопросы: чему равна мода распределения, каковы предельные значения признака, в каком примерном интервале находится опыт работы большинства соискателей? Есть ли аномалии для признака опыта работы, какие значения вы бы причислили к их числу?\n",
        "*Совет: постройте гистограмму и коробчатую диаграмму рядом.*"
      ]
    },
    {
      "cell_type": "code",
      "execution_count": null,
      "id": "dd7df27a-e3e8-412e-a21a-5d389b71e891",
      "metadata": {
        "id": "dd7df27a-e3e8-412e-a21a-5d389b71e891",
        "colab": {
          "base_uri": "https://localhost:8080/",
          "height": 419
        },
        "outputId": "ba647870-2212-4342-97bd-8cec62918d3d"
      },
      "outputs": [
        {
          "output_type": "display_data",
          "data": {
            "text/plain": [
              "<Figure size 1008x432 with 2 Axes>"
            ],
            "image/png": "[encoded data removed]"
          },
          "metadata": {
            "needs_background": "light"
          }
        },
        {
          "output_type": "stream",
          "name": "stdout",
          "text": [
            "Мода: 81, мин.значение: 1, макс.значение: 1188\n"
          ]
        }
      ],
      "source": [
        "# ваш код здесь\n",
        "fig, axes = plt.subplots(nrows=1, ncols=2, figsize=(14, 6))\n",
        "plt.title('Распределение соискателей по опыту работы в месяцах')\n",
        "plt.xlabel('Опыт работы кандидата') \n",
        "plt.ylabel('Количество кандидатов')\n",
        "plt.grid()\n",
        "\n",
        "axes[0].set_title('Гистограмма распределения опыта работы соискателей', fontsize=11)\n",
        "sns.histplot(\n",
        "    data=data['Опыт работы (месяц)'], \n",
        "    bins=20, \n",
        "    kde=True,\n",
        "    ax=axes[0]\n",
        ");\n",
        "\n",
        "axes[1].set_title('Коробчатая диаграмма распределение опыта работы соискателей', fontsize=11)\n",
        "sns.boxplot(\n",
        "    data=data['Опыт работы (месяц)'],\n",
        "    orient='v',\n",
        "    width=0.9,\n",
        "    medianprops={'color': 'red'}\n",
        "); \n",
        "\n",
        "plt.show()\n",
        "\n",
        "dist_mode = int(data['Опыт работы (месяц)'].mode())\n",
        "dist_min, dist_max = int(data['Опыт работы (месяц)'].min()), int(data['Опыт работы (месяц)'].max())\n",
        "\n",
        "print(f'Мода: {dist_mode}, мин.значение: {dist_min}, макс.значение: {dist_max}')"
      ]
    },
    {
      "cell_type": "markdown",
      "id": "7305c34b-089d-4986-be9f-5fa1c0ee281c",
      "metadata": {
        "id": "7305c34b-089d-4986-be9f-5fa1c0ee281c"
      },
      "source": [
        "Распределение логнормальное, разброс значений от 1 до 1188 месяцев. Мода равна 81 месяцу (примерно 6,5 лет), что вполне реально для людей 30 лет с учетом перерывов для поиска работы. Аномальным значением является показатель 1188 месяцев (около 100 лет) трудового стажа, что нереально. А также стоит проверить на аномальность значения выше 600 месяцев (более 50 лет). Такая продолжительность стажа возможна, но является скорее исключением. "
      ]
    },
    {
      "cell_type": "markdown",
      "id": "f2fe0acb-ab1a-4e15-9326-2560e22d73c1",
      "metadata": {
        "id": "f2fe0acb-ab1a-4e15-9326-2560e22d73c1"
      },
      "source": [
        "3. Постройте распределение признака **\"ЗП (руб)\"**. Опишите данное распределение, отвечая на следующие вопросы: каковы предельные значения признака, в каком примерном интервале находится заработная плата большинства соискателей? Есть ли аномалии для признака возраста? Обратите внимание на гигантские размеры желаемой заработной платы.\n",
        "*Совет: постройте гистограмму и коробчатую диаграмму рядом.*\n"
      ]
    },
    {
      "cell_type": "code",
      "execution_count": null,
      "id": "6271f8ad-bd2e-4196-ae4a-5b39c4c1010e",
      "metadata": {
        "id": "6271f8ad-bd2e-4196-ae4a-5b39c4c1010e",
        "colab": {
          "base_uri": "https://localhost:8080/",
          "height": 419
        },
        "outputId": "35485da8-a618-4890-823f-929e63cf859c"
      },
      "outputs": [
        {
          "output_type": "display_data",
          "data": {
            "text/plain": [
              "<Figure size 1008x432 with 2 Axes>"
            ],
            "image/png": "[encoded data removed]"
          },
          "metadata": {
            "needs_background": "light"
          }
        },
        {
          "output_type": "stream",
          "name": "stdout",
          "text": [
            "Мода: 50000, мин.значение: 1, макс.значение: 24304876\n"
          ]
        }
      ],
      "source": [
        "# ваш код здесь\n",
        "\n",
        "fig, axes = plt.subplots(nrows=1, ncols=2, figsize=(14, 6))\n",
        "plt.title('Распределение зарплатных ожиданий соискателей')\n",
        "plt.xlabel('Ожидаемая зарплата в рублях') \n",
        "plt.ylabel('Количество кандидатов')\n",
        "plt.grid()\n",
        "\n",
        "axes[0].set_title('Гистограмма распределения зарплатных ожиданий соискателей', fontsize=11)\n",
        "sns.histplot(\n",
        "    data=data['ЗП (руб)'],\n",
        "    bins=40,\n",
        "    kde=True,\n",
        "    ax=axes[0]\n",
        ");\n",
        "\n",
        "axes[1].set_title('Коробчатая диаграмма распределения зарплатных ожиданий соискателей', fontsize=11)\n",
        "sns.boxplot(\n",
        "    data=data['ЗП (руб)'],\n",
        "    orient='h',\n",
        "    width=0.9\n",
        ");\n",
        "\n",
        "plt.show()\n",
        "\n",
        "dist_mode = int(data['ЗП (руб)'].mode())\n",
        "dist_min, dist_max = int(data['ЗП (руб)'].min()), int(data['ЗП (руб)'].max())\n",
        "\n",
        "print(f'Мода: {dist_mode}, мин.значение: {dist_min}, макс.значение: {dist_max}')"
      ]
    },
    {
      "cell_type": "markdown",
      "id": "6c39ca13-225e-48f7-a85c-ab07a6cc852a",
      "metadata": {
        "id": "6c39ca13-225e-48f7-a85c-ab07a6cc852a"
      },
      "source": [
        "Распределение определить невозможно, потому что картину портят огромные выбросы, которые необходимо удалить. Однако мода указывает, что большинство соискателей готовы работать за 50 тысяч."
      ]
    },
    {
      "cell_type": "markdown",
      "id": "eab2206d-d95b-468b-8e5f-34381abf0ce7",
      "metadata": {
        "id": "eab2206d-d95b-468b-8e5f-34381abf0ce7"
      },
      "source": [
        "4. Постройте диаграмму, которая показывает зависимость **медианной** желаемой заработной платы (**\"ЗП (руб)\"**) от уровня образования (**\"Образование\"**). Используйте для диаграммы данные о резюме, где желаемая заработная плата меньше 1 млн рублей.\n",
        "*Сделайте выводы по представленной диаграмме: для каких уровней образования наблюдаются наибольшие и наименьшие уровни желаемой заработной платы? Как вы считаете, важен ли признак уровня образования при прогнозировании заработной платы?*"
      ]
    },
    {
      "cell_type": "code",
      "execution_count": null,
      "id": "80defb23-bfb1-4a18-8be6-bf36aa7165d5",
      "metadata": {
        "id": "80defb23-bfb1-4a18-8be6-bf36aa7165d5",
        "colab": {
          "base_uri": "https://localhost:8080/",
          "height": 404
        },
        "outputId": "54ee94f5-dbc6-4f6e-d933-861c809cd9a7"
      },
      "outputs": [
        {
          "output_type": "display_data",
          "data": {
            "text/plain": [
              "<Figure size 720x432 with 1 Axes>"
            ],
            "image/png": "[encoded data removed]"
          },
          "metadata": {
            "needs_background": "light"
          }
        }
      ],
      "source": [
        "# ваш код здесь\n",
        "data_bar = data[data['ЗП (руб)'] < 1000000].groupby(['Образование'], as_index=False).median()\n",
        "\n",
        "fig = plt.figure(figsize=(10, 6))\n",
        "plt.title('Распределение медианной желаемой заработной платы и уровня образования')\n",
        "\n",
        "barplot = sns.barplot(data=data_bar, x='Образование',y='ЗП (руб)')\n",
        "barplot.set_xlabel('Образование')\n",
        "barplot.set_ylabel('Зарплата')\n",
        "\n",
        "plt.show()"
      ]
    },
    {
      "cell_type": "markdown",
      "id": "dc463319-3f85-47dd-b66e-aecb0be0c76f",
      "metadata": {
        "id": "dc463319-3f85-47dd-b66e-aecb0be0c76f"
      },
      "source": [
        "Из графика видно, что чем выше уровень образования, тем выше зарплату хочет кандидат. Важный момент сложность получаемой профессии и время на ее приобретение: на руководящую должность возьмут скорее человека с высшим образованием, чем с неоконченным высшим. Примерно на одном зарплатном уровне находятся кандидаты со средним и средним специальным образованием. "
      ]
    },
    {
      "cell_type": "markdown",
      "id": "0112af31-f6b0-4e3b-82ab-71296e752e5e",
      "metadata": {
        "id": "0112af31-f6b0-4e3b-82ab-71296e752e5e"
      },
      "source": [
        "5. Постройте диаграмму, которая показывает распределение желаемой заработной платы (**\"ЗП (руб)\"**) в зависимости от города (**\"Город\"**). Используйте для диаграммы данные о резюме, где желая заработная плата меньше 1 млн рублей.\n",
        "*Сделайте выводы по полученной диаграмме: как соотносятся медианные уровни желаемой заработной платы и их размах в городах? Как вы считаете, важен ли признак города при прогнозировании заработной платы?*"
      ]
    },
    {
      "cell_type": "code",
      "execution_count": null,
      "id": "973b0cfc-a972-470a-8b4a-68744ef220c4",
      "metadata": {
        "id": "973b0cfc-a972-470a-8b4a-68744ef220c4",
        "colab": {
          "base_uri": "https://localhost:8080/",
          "height": 404
        },
        "outputId": "0a1a2ab3-4547-4c4d-acaa-fc1aff1b02e5"
      },
      "outputs": [
        {
          "output_type": "display_data",
          "data": {
            "text/plain": [
              "<Figure size 720x432 with 1 Axes>"
            ],
            "image/png": "[encoded data removed]"
          },
          "metadata": {
            "needs_background": "light"
          }
        }
      ],
      "source": [
        "# ваш код здесь\n",
        "data_bar = data[data['ЗП (руб)'] < 1000000]\n",
        "\n",
        "fig = plt.figure(figsize=(10, 6))\n",
        "plt.title('Зависимость заработной платы от города проживания.')\n",
        "\n",
        "scatterplot = sns.scatterplot(data=data_bar, x='Город',y='ЗП (руб)')\n",
        "scatterplot.set_xlabel('Город')\n",
        "scatterplot.set_ylabel('Зарплата')\n",
        "\n",
        "plt.show()"
      ]
    },
    {
      "cell_type": "markdown",
      "id": "2710ce73-2e81-4e38-b52f-833cd14ba47a",
      "metadata": {
        "tags": [],
        "id": "2710ce73-2e81-4e38-b52f-833cd14ba47a"
      },
      "source": [
        "Самые большие зарплаты в Москве, далее с большим отрывом идет Санкт-Петербург. Медианная заработная плата городов-милионников и прочих городов примерное на одном уровне. Но у других городов самый большой выброс. "
      ]
    },
    {
      "cell_type": "markdown",
      "id": "3bfcfdaf-755d-4d2b-8ed8-326201dc07ab",
      "metadata": {
        "id": "3bfcfdaf-755d-4d2b-8ed8-326201dc07ab"
      },
      "source": [
        "6. Постройте **многоуровневую столбчатую диаграмму**, которая показывает зависимость медианной заработной платы (**\"ЗП (руб)\"**) от признаков **\"Готовность к переезду\"** и **\"Готовность к командировкам\"**. Проанализируйте график, сравнив уровень заработной платы в категориях."
      ]
    },
    {
      "cell_type": "code",
      "source": [
        "# ваш код здесь\n",
        "data_bar = data[data['ЗП (руб)'] < 1000000].groupby([\"Готовность к переезду\",\"Готовность к командировкам\"],as_index=False).median()\n",
        "\n",
        "fig = plt.figure(figsize=(14, 6))\n",
        "plt.title('Зависимость заработной платы от мобильности кандидата.')\n",
        "plt.grid()\n",
        "plt.legend()\n",
        "\n",
        "barplot = sns.barplot(\n",
        "    data=data_bar,\n",
        "    x='Готовность к переезду',\n",
        "    y='ЗП (руб)',\n",
        "    hue='Готовность к командировкам')\n",
        "\n",
        "plt.show()"
      ],
      "metadata": {
        "colab": {
          "base_uri": "https://localhost:8080/",
          "height": 421
        },
        "id": "15EVpST7UVRM",
        "outputId": "4d097164-589e-43a7-9b95-ce32664433b7"
      },
      "id": "15EVpST7UVRM",
      "execution_count": null,
      "outputs": [
        {
          "output_type": "stream",
          "name": "stderr",
          "text": [
            "WARNING:matplotlib.legend:No handles with labels found to put in legend.\n"
          ]
        },
        {
          "output_type": "display_data",
          "data": {
            "text/plain": [
              "<Figure size 1008x432 with 1 Axes>"
            ],
            "image/png": "[encoded data removed]"
          },
          "metadata": {
            "needs_background": "light"
          }
        }
      ]
    },
    {
      "cell_type": "markdown",
      "source": [
        "По графику видно, что люди в родном городе готовы работать за 40 тысяч, а люди готовые переехать хотят уже 50 тысяч (плюс 10 тыс.). \n",
        "\n",
        "Кандидаты готовые ездить в командировки из родного города хотят 60 тысяч (плюс 20 тыс.), но кто готов и поменять еще и место жительства всего лишь 6 тысяч больше (примерно 66 тыс.). \n",
        "\n",
        "В целом можно сказать, что разъезды по командировкам даются людям тяжелее, т.к. приходится жертвовать комфортом и, следовательно, соискатели стремятся это компенсировать."
      ],
      "metadata": {
        "id": "AKlIzn2ABWbB"
      },
      "id": "AKlIzn2ABWbB"
    },
    {
      "cell_type": "markdown",
      "id": "7b02bb86-0546-40fb-94a4-242f050a5c57",
      "metadata": {
        "id": "7b02bb86-0546-40fb-94a4-242f050a5c57"
      },
      "source": [
        "7. Постройте сводную таблицу, иллюстрирующую зависимость **медианной** желаемой заработной платы от возраста (**\"Возраст\"**) и образования (**\"Образование\"**). На полученной сводной таблице постройте **тепловую карту**. Проанализируйте тепловую карту, сравнив показатели внутри групп."
      ]
    },
    {
      "cell_type": "code",
      "execution_count": null,
      "id": "5a0e32a4-e68a-4365-8a39-2fe24c542c36",
      "metadata": {
        "id": "5a0e32a4-e68a-4365-8a39-2fe24c542c36",
        "colab": {
          "base_uri": "https://localhost:8080/",
          "height": 542
        },
        "outputId": "209fd395-b513-4bf1-f125-b819ddcfb47f"
      },
      "outputs": [
        {
          "output_type": "display_data",
          "data": {
            "text/html": [
              "<html>\n",
              "<head><meta charset=\"utf-8\" /></head>\n",
              "<body>\n",
              "    <div>            <script src=\"https://cdnjs.cloudflare.com/ajax/libs/mathjax/2.7.5/MathJax.js?config=TeX-AMS-MML_SVG\"></script><script type=\"text/javascript\">if (window.MathJax) {MathJax.Hub.Config({SVG: {font: \"STIX-Web\"}});}</script>                <script type=\"text/javascript\">window.PlotlyConfig = {MathJaxConfig: 'local'};</script>\n",
              "        <script src=\"https://cdn.plot.ly/plotly-2.8.3.min.js\"></script>                <div id=\"75b47215-c85d-4428-9adf-3d779bb49a1c\" class=\"plotly-graph-div\" style=\"height:525px; width:100%;\"></div>            <script type=\"text/javascript\">                                    window.PLOTLYENV=window.PLOTLYENV || {};                                    if (document.getElementById(\"75b47215-c85d-4428-9adf-3d779bb49a1c\")) {                    Plotly.newPlot(                        \"75b47215-c85d-4428-9adf-3d779bb49a1c\",                        [{\"coloraxis\":\"coloraxis\",\"name\":\"0\",\"texttemplate\":\"%{z}\",\"x\":[\"\\u0432\\u044b\\u0441\\u0448\\u0435\\u0435\",\"\\u043d\\u0435\\u043e\\u043a\\u043e\\u043d\\u0447\\u0435\\u043d\\u043d\\u043e\\u0435 \\u0432\\u044b\\u0441\\u0448\\u0435\\u0435\",\"\\u0441\\u0440\\u0435\\u0434\\u043d\\u0435\\u0435\",\"\\u0441\\u0440\\u0435\\u0434\\u043d\\u0435\\u0435 \\u0441\\u043f\\u0435\\u0446\\u0438\\u0430\\u043b\\u044c\\u043d\\u043e\\u0435\"],\"y\":[14,15,16,17,18,19,20,21,22,23,24,25,26,27,28,29,30,31,32,33,34,35,36,37,38,39,40,41,42,43,44,45,46,47,48,49,50,51,52,53,54,55,56,57,58,59,60,61,62,63,64,65,66,67,68,69,70,71,72,73,76,77,100],\"z\":[[60000.0,0.0,0.0,0.0],[0.0,0.0,10000.0,2000.0],[122582.49,0.0,0.0,30000.0],[90075.5,80000.0,44000.0,25000.0],[30000.0,25000.0,35000.0,25151.0],[30000.0,30000.0,45000.0,30000.0],[30000.0,31000.0,29000.0,30000.0],[35000.0,35000.0,40000.0,30000.0],[40000.0,40000.0,40000.0,30000.0],[45000.0,40000.0,35000.0,35000.0],[50000.0,40000.0,45000.0,35000.0],[50000.0,40000.0,45000.0,40000.0],[50000.0,45000.0,45000.0,40000.0],[55000.0,50000.0,36500.0,40000.0],[60000.0,50000.0,40000.0,40000.0],[60000.0,50000.0,40000.0,40000.0],[65000.0,50000.0,45000.0,40000.0],[65000.0,60000.0,45000.0,45000.0],[70000.0,50000.0,35000.0,45000.0],[70000.0,50000.0,52500.0,40000.0],[70000.0,65000.0,60000.0,40000.0],[70000.0,60000.0,45000.0,45000.0],[70000.0,60000.0,40000.0,41000.0],[75000.0,70000.0,52500.0,40000.0],[83967.75,65000.0,37500.0,45000.0],[80000.0,60000.0,50522.649999999994,40000.0],[90000.0,60000.0,40000.0,45000.0],[90000.0,75000.0,60000.0,40000.0],[85000.0,79500.0,37500.0,45000.0],[80000.0,90000.0,63000.0,50000.0],[80000.0,79900.0,45000.0,50000.0],[80000.0,52500.0,45000.0,40000.0],[85000.0,80000.0,55000.0,40000.0],[80000.0,80000.0,35000.0,45000.0],[75000.0,64776.6,60000.0,45000.0],[70000.0,75000.0,40000.0,35000.0],[70000.0,50000.0,30000.0,35000.0],[70000.0,65000.0,0.0,40000.0],[70000.0,47500.0,35000.0,47500.0],[65000.0,72500.0,40000.0,50522.649999999994],[70000.0,50000.0,67500.0,35000.0],[70000.0,37500.0,20000.0,42500.0],[60000.0,65000.0,100000.0,40000.0],[60000.0,62500.0,35000.0,37500.0],[75000.0,110000.0,30000.0,47500.0],[93500.0,57500.0,0.0,50000.0],[60750.0,75000.0,0.0,25000.0],[60000.0,20000.0,0.0,45000.0],[60000.0,30000.0,0.0,35000.0],[70000.0,0.0,0.0,25000.0],[50000.0,0.0,0.0,0.0],[80000.0,0.0,0.0,13000.0],[65000.0,0.0,0.0,0.0],[70000.0,0.0,0.0,120000.0],[79000.0,0.0,0.0,0.0],[112500.0,0.0,0.0,0.0],[80000.0,0.0,0.0,0.0],[75000.0,0.0,0.0,0.0],[75000.0,0.0,0.0,0.0],[62500.0,0.0,0.0,0.0],[45000.0,0.0,0.0,0.0],[90000.0,0.0,0.0,0.0],[0.0,0.0,0.0,60000.0]],\"type\":\"heatmap\",\"xaxis\":\"x\",\"yaxis\":\"y\",\"hovertemplate\":\"\\u041e\\u0431\\u0440\\u0430\\u0437\\u043e\\u0432\\u0430\\u043d\\u0438\\u0435: %{x}<br>\\u0412\\u043e\\u0437\\u0440\\u0430\\u0441\\u0442: %{y}<br>color: %{z}<extra></extra>\"}],                        {\"template\":{\"data\":{\"bar\":[{\"error_x\":{\"color\":\"#2a3f5f\"},\"error_y\":{\"color\":\"#2a3f5f\"},\"marker\":{\"line\":{\"color\":\"#E5ECF6\",\"width\":0.5},\"pattern\":{\"fillmode\":\"overlay\",\"size\":10,\"solidity\":0.2}},\"type\":\"bar\"}],\"barpolar\":[{\"marker\":{\"line\":{\"color\":\"#E5ECF6\",\"width\":0.5},\"pattern\":{\"fillmode\":\"overlay\",\"size\":10,\"solidity\":0.2}},\"type\":\"barpolar\"}],\"carpet\":[{\"aaxis\":{\"endlinecolor\":\"#2a3f5f\",\"gridcolor\":\"white\",\"linecolor\":\"white\",\"minorgridcolor\":\"white\",\"startlinecolor\":\"#2a3f5f\"},\"baxis\":{\"endlinecolor\":\"#2a3f5f\",\"gridcolor\":\"white\",\"linecolor\":\"white\",\"minorgridcolor\":\"white\",\"startlinecolor\":\"#2a3f5f\"},\"type\":\"carpet\"}],\"choropleth\":[{\"colorbar\":{\"outlinewidth\":0,\"ticks\":\"\"},\"type\":\"choropleth\"}],\"contour\":[{\"colorbar\":{\"outlinewidth\":0,\"ticks\":\"\"},\"colorscale\":[[0.0,\"#0d0887\"],[0.1111111111111111,\"#46039f\"],[0.2222222222222222,\"#7201a8\"],[0.3333333333333333,\"#9c179e\"],[0.4444444444444444,\"#bd3786\"],[0.5555555555555556,\"#d8576b\"],[0.6666666666666666,\"#ed7953\"],[0.7777777777777778,\"#fb9f3a\"],[0.8888888888888888,\"#fdca26\"],[1.0,\"#f0f921\"]],\"type\":\"contour\"}],\"contourcarpet\":[{\"colorbar\":{\"outlinewidth\":0,\"ticks\":\"\"},\"type\":\"contourcarpet\"}],\"heatmap\":[{\"colorbar\":{\"outlinewidth\":0,\"ticks\":\"\"},\"colorscale\":[[0.0,\"#0d0887\"],[0.1111111111111111,\"#46039f\"],[0.2222222222222222,\"#7201a8\"],[0.3333333333333333,\"#9c179e\"],[0.4444444444444444,\"#bd3786\"],[0.5555555555555556,\"#d8576b\"],[0.6666666666666666,\"#ed7953\"],[0.7777777777777778,\"#fb9f3a\"],[0.8888888888888888,\"#fdca26\"],[1.0,\"#f0f921\"]],\"type\":\"heatmap\"}],\"heatmapgl\":[{\"colorbar\":{\"outlinewidth\":0,\"ticks\":\"\"},\"colorscale\":[[0.0,\"#0d0887\"],[0.1111111111111111,\"#46039f\"],[0.2222222222222222,\"#7201a8\"],[0.3333333333333333,\"#9c179e\"],[0.4444444444444444,\"#bd3786\"],[0.5555555555555556,\"#d8576b\"],[0.6666666666666666,\"#ed7953\"],[0.7777777777777778,\"#fb9f3a\"],[0.8888888888888888,\"#fdca26\"],[1.0,\"#f0f921\"]],\"type\":\"heatmapgl\"}],\"histogram\":[{\"marker\":{\"pattern\":{\"fillmode\":\"overlay\",\"size\":10,\"solidity\":0.2}},\"type\":\"histogram\"}],\"histogram2d\":[{\"colorbar\":{\"outlinewidth\":0,\"ticks\":\"\"},\"colorscale\":[[0.0,\"#0d0887\"],[0.1111111111111111,\"#46039f\"],[0.2222222222222222,\"#7201a8\"],[0.3333333333333333,\"#9c179e\"],[0.4444444444444444,\"#bd3786\"],[0.5555555555555556,\"#d8576b\"],[0.6666666666666666,\"#ed7953\"],[0.7777777777777778,\"#fb9f3a\"],[0.8888888888888888,\"#fdca26\"],[1.0,\"#f0f921\"]],\"type\":\"histogram2d\"}],\"histogram2dcontour\":[{\"colorbar\":{\"outlinewidth\":0,\"ticks\":\"\"},\"colorscale\":[[0.0,\"#0d0887\"],[0.1111111111111111,\"#46039f\"],[0.2222222222222222,\"#7201a8\"],[0.3333333333333333,\"#9c179e\"],[0.4444444444444444,\"#bd3786\"],[0.5555555555555556,\"#d8576b\"],[0.6666666666666666,\"#ed7953\"],[0.7777777777777778,\"#fb9f3a\"],[0.8888888888888888,\"#fdca26\"],[1.0,\"#f0f921\"]],\"type\":\"histogram2dcontour\"}],\"mesh3d\":[{\"colorbar\":{\"outlinewidth\":0,\"ticks\":\"\"},\"type\":\"mesh3d\"}],\"parcoords\":[{\"line\":{\"colorbar\":{\"outlinewidth\":0,\"ticks\":\"\"}},\"type\":\"parcoords\"}],\"pie\":[{\"automargin\":true,\"type\":\"pie\"}],\"scatter\":[{\"marker\":{\"colorbar\":{\"outlinewidth\":0,\"ticks\":\"\"}},\"type\":\"scatter\"}],\"scatter3d\":[{\"line\":{\"colorbar\":{\"outlinewidth\":0,\"ticks\":\"\"}},\"marker\":{\"colorbar\":{\"outlinewidth\":0,\"ticks\":\"\"}},\"type\":\"scatter3d\"}],\"scattercarpet\":[{\"marker\":{\"colorbar\":{\"outlinewidth\":0,\"ticks\":\"\"}},\"type\":\"scattercarpet\"}],\"scattergeo\":[{\"marker\":{\"colorbar\":{\"outlinewidth\":0,\"ticks\":\"\"}},\"type\":\"scattergeo\"}],\"scattergl\":[{\"marker\":{\"colorbar\":{\"outlinewidth\":0,\"ticks\":\"\"}},\"type\":\"scattergl\"}],\"scattermapbox\":[{\"marker\":{\"colorbar\":{\"outlinewidth\":0,\"ticks\":\"\"}},\"type\":\"scattermapbox\"}],\"scatterpolar\":[{\"marker\":{\"colorbar\":{\"outlinewidth\":0,\"ticks\":\"\"}},\"type\":\"scatterpolar\"}],\"scatterpolargl\":[{\"marker\":{\"colorbar\":{\"outlinewidth\":0,\"ticks\":\"\"}},\"type\":\"scatterpolargl\"}],\"scatterternary\":[{\"marker\":{\"colorbar\":{\"outlinewidth\":0,\"ticks\":\"\"}},\"type\":\"scatterternary\"}],\"surface\":[{\"colorbar\":{\"outlinewidth\":0,\"ticks\":\"\"},\"colorscale\":[[0.0,\"#0d0887\"],[0.1111111111111111,\"#46039f\"],[0.2222222222222222,\"#7201a8\"],[0.3333333333333333,\"#9c179e\"],[0.4444444444444444,\"#bd3786\"],[0.5555555555555556,\"#d8576b\"],[0.6666666666666666,\"#ed7953\"],[0.7777777777777778,\"#fb9f3a\"],[0.8888888888888888,\"#fdca26\"],[1.0,\"#f0f921\"]],\"type\":\"surface\"}],\"table\":[{\"cells\":{\"fill\":{\"color\":\"#EBF0F8\"},\"line\":{\"color\":\"white\"}},\"header\":{\"fill\":{\"color\":\"#C8D4E3\"},\"line\":{\"color\":\"white\"}},\"type\":\"table\"}]},\"layout\":{\"annotationdefaults\":{\"arrowcolor\":\"#2a3f5f\",\"arrowhead\":0,\"arrowwidth\":1},\"autotypenumbers\":\"strict\",\"coloraxis\":{\"colorbar\":{\"outlinewidth\":0,\"ticks\":\"\"}},\"colorscale\":{\"diverging\":[[0,\"#8e0152\"],[0.1,\"#c51b7d\"],[0.2,\"#de77ae\"],[0.3,\"#f1b6da\"],[0.4,\"#fde0ef\"],[0.5,\"#f7f7f7\"],[0.6,\"#e6f5d0\"],[0.7,\"#b8e186\"],[0.8,\"#7fbc41\"],[0.9,\"#4d9221\"],[1,\"#276419\"]],\"sequential\":[[0.0,\"#0d0887\"],[0.1111111111111111,\"#46039f\"],[0.2222222222222222,\"#7201a8\"],[0.3333333333333333,\"#9c179e\"],[0.4444444444444444,\"#bd3786\"],[0.5555555555555556,\"#d8576b\"],[0.6666666666666666,\"#ed7953\"],[0.7777777777777778,\"#fb9f3a\"],[0.8888888888888888,\"#fdca26\"],[1.0,\"#f0f921\"]],\"sequentialminus\":[[0.0,\"#0d0887\"],[0.1111111111111111,\"#46039f\"],[0.2222222222222222,\"#7201a8\"],[0.3333333333333333,\"#9c179e\"],[0.4444444444444444,\"#bd3786\"],[0.5555555555555556,\"#d8576b\"],[0.6666666666666666,\"#ed7953\"],[0.7777777777777778,\"#fb9f3a\"],[0.8888888888888888,\"#fdca26\"],[1.0,\"#f0f921\"]]},\"colorway\":[\"#636efa\",\"#EF553B\",\"#00cc96\",\"#ab63fa\",\"#FFA15A\",\"#19d3f3\",\"#FF6692\",\"#B6E880\",\"#FF97FF\",\"#FECB52\"],\"font\":{\"color\":\"#2a3f5f\"},\"geo\":{\"bgcolor\":\"white\",\"lakecolor\":\"white\",\"landcolor\":\"#E5ECF6\",\"showlakes\":true,\"showland\":true,\"subunitcolor\":\"white\"},\"hoverlabel\":{\"align\":\"left\"},\"hovermode\":\"closest\",\"mapbox\":{\"style\":\"light\"},\"paper_bgcolor\":\"white\",\"plot_bgcolor\":\"#E5ECF6\",\"polar\":{\"angularaxis\":{\"gridcolor\":\"white\",\"linecolor\":\"white\",\"ticks\":\"\"},\"bgcolor\":\"#E5ECF6\",\"radialaxis\":{\"gridcolor\":\"white\",\"linecolor\":\"white\",\"ticks\":\"\"}},\"scene\":{\"xaxis\":{\"backgroundcolor\":\"#E5ECF6\",\"gridcolor\":\"white\",\"gridwidth\":2,\"linecolor\":\"white\",\"showbackground\":true,\"ticks\":\"\",\"zerolinecolor\":\"white\"},\"yaxis\":{\"backgroundcolor\":\"#E5ECF6\",\"gridcolor\":\"white\",\"gridwidth\":2,\"linecolor\":\"white\",\"showbackground\":true,\"ticks\":\"\",\"zerolinecolor\":\"white\"},\"zaxis\":{\"backgroundcolor\":\"#E5ECF6\",\"gridcolor\":\"white\",\"gridwidth\":2,\"linecolor\":\"white\",\"showbackground\":true,\"ticks\":\"\",\"zerolinecolor\":\"white\"}},\"shapedefaults\":{\"line\":{\"color\":\"#2a3f5f\"}},\"ternary\":{\"aaxis\":{\"gridcolor\":\"white\",\"linecolor\":\"white\",\"ticks\":\"\"},\"baxis\":{\"gridcolor\":\"white\",\"linecolor\":\"white\",\"ticks\":\"\"},\"bgcolor\":\"#E5ECF6\",\"caxis\":{\"gridcolor\":\"white\",\"linecolor\":\"white\",\"ticks\":\"\"}},\"title\":{\"x\":0.05},\"xaxis\":{\"automargin\":true,\"gridcolor\":\"white\",\"linecolor\":\"white\",\"ticks\":\"\",\"title\":{\"standoff\":15},\"zerolinecolor\":\"white\",\"zerolinewidth\":2},\"yaxis\":{\"automargin\":true,\"gridcolor\":\"white\",\"linecolor\":\"white\",\"ticks\":\"\",\"title\":{\"standoff\":15},\"zerolinecolor\":\"white\",\"zerolinewidth\":2}}},\"xaxis\":{\"anchor\":\"y\",\"domain\":[0.0,1.0],\"scaleanchor\":\"y\",\"constrain\":\"domain\",\"title\":{\"text\":\"\\u041e\\u0431\\u0440\\u0430\\u0437\\u043e\\u0432\\u0430\\u043d\\u0438\\u0435\"}},\"yaxis\":{\"anchor\":\"x\",\"domain\":[0.0,1.0],\"autorange\":\"reversed\",\"constrain\":\"domain\",\"title\":{\"text\":\"\\u0412\\u043e\\u0437\\u0440\\u0430\\u0441\\u0442\"}},\"coloraxis\":{\"colorscale\":[[0.0,\"rgb(255,245,235)\"],[0.125,\"rgb(254,230,206)\"],[0.25,\"rgb(253,208,162)\"],[0.375,\"rgb(253,174,107)\"],[0.5,\"rgb(253,141,60)\"],[0.625,\"rgb(241,105,19)\"],[0.75,\"rgb(217,72,1)\"],[0.875,\"rgb(166,54,3)\"],[1.0,\"rgb(127,39,4)\"]]},\"title\":{\"text\":\"\\u0417\\u0430\\u0432\\u0438\\u0441\\u0438\\u043c\\u043e\\u0441\\u0442\\u044c \\u043c\\u0435\\u0434\\u0438\\u0430\\u043d\\u043d\\u043e\\u0439 \\u0436\\u0435\\u043b\\u0430\\u0435\\u043c\\u043e\\u0439 \\u0437\\u0430\\u0440\\u0430\\u0431\\u043e\\u0442\\u043d\\u043e\\u0439 \\u043f\\u043b\\u0430\\u0442\\u044b \\u043e\\u0442 \\u0432\\u043e\\u0437\\u0440\\u0430\\u0441\\u0442\\u0430 \\u0438 \\u043e\\u0431\\u0440\\u0430\\u0437\\u043e\\u0432\\u0430\\u043d\\u0438\\u044f\"}},                        {\"responsive\": true}                    ).then(function(){\n",
              "                            \n",
              "var gd = document.getElementById('75b47215-c85d-4428-9adf-3d779bb49a1c');\n",
              "var x = new MutationObserver(function (mutations, observer) {{\n",
              "        var display = window.getComputedStyle(gd).display;\n",
              "        if (!display || display === 'none') {{\n",
              "            console.log([gd, 'removed!']);\n",
              "            Plotly.purge(gd);\n",
              "            observer.disconnect();\n",
              "        }}\n",
              "}});\n",
              "\n",
              "// Listen for the removal of the full notebook cells\n",
              "var notebookContainer = gd.closest('#notebook-container');\n",
              "if (notebookContainer) {{\n",
              "    x.observe(notebookContainer, {childList: true});\n",
              "}}\n",
              "\n",
              "// Listen for the clearing of the current output cell\n",
              "var outputEl = gd.closest('.output');\n",
              "if (outputEl) {{\n",
              "    x.observe(outputEl, {childList: true});\n",
              "}}\n",
              "\n",
              "                        })                };                            </script>        </div>\n",
              "</body>\n",
              "</html>"
            ]
          },
          "metadata": {}
        }
      ],
      "source": [
        "# ваш код здесь\n",
        "pivot = pd.pivot_table(\n",
        "    data=data,\n",
        "    index=\"Возраст\",\n",
        "    columns=\"Образование\",\n",
        "    values=\"ЗП (руб)\",\n",
        "    aggfunc='median', \n",
        "    fill_value=0\n",
        ")\n",
        "\n",
        "fig = px.imshow(\n",
        "    pivot,\n",
        "    color_continuous_scale='oranges',  \n",
        "    title='Зависимость медианной желаемой заработной платы от возраста и образования', \n",
        "    text_auto=True\n",
        "\n",
        ")\n",
        "\n",
        "fig.show()"
      ]
    },
    {
      "cell_type": "markdown",
      "id": "7aade1c2-16a0-418c-8427-ad93927c7705",
      "metadata": {
        "id": "7aade1c2-16a0-418c-8427-ad93927c7705"
      },
      "source": [
        "Чем старше и образованей кандидат, тем на большую зарплату претендует. Особенно это касается высшего образования. Кандидаты со средним и средним специальным образованием получают примерно на одном уровне."
      ]
    },
    {
      "cell_type": "markdown",
      "id": "d0247088-9003-455b-a591-a44650f487c3",
      "metadata": {
        "id": "d0247088-9003-455b-a591-a44650f487c3"
      },
      "source": [
        "8. Постройте **диаграмму рассеяния**, показывающую зависимость опыта работы (**\"Опыт работы (месяц)\"**) от возраста (**\"Возраст\"**). Опыт работы переведите из месяцев в года, чтобы признаки были в едином масштабе. Постройте на графике дополнительно прямую, проходящую через точки (0, 0) и (100, 100). Данная прямая соответствует значениям, когда опыт работы равен возрасту человека. Точки, лежащие на этой прямой и выше нее - аномалии в наших данных (опыт работы больше либо равен возрасту соискателя)"
      ]
    },
    {
      "cell_type": "code",
      "execution_count": null,
      "id": "a4143e50-b900-4ec8-9ae9-fc3ec3347287",
      "metadata": {
        "id": "a4143e50-b900-4ec8-9ae9-fc3ec3347287",
        "colab": {
          "base_uri": "https://localhost:8080/",
          "height": 404
        },
        "outputId": "0468799f-c23a-4a31-dc2c-45bd3c2ffe0b"
      },
      "outputs": [
        {
          "output_type": "display_data",
          "data": {
            "text/plain": [
              "<Figure size 720x432 with 1 Axes>"
            ],
            "image/png": "[encoded data removed]"
          },
          "metadata": {
            "needs_background": "light"
          }
        }
      ],
      "source": [
        "# ваш код здесь\n",
        "scat_data = pd.DataFrame(columns= ['age','experience'])\n",
        "scat_data['age'] = data[\"Возраст\"]\n",
        "scat_data['experience'] = round(data[\"Опыт работы (месяц)\"]/12)\n",
        "\n",
        "fig = plt.figure(figsize=(10,6))\n",
        "plt.title('Зависимость опыта работы кандидата от возраста') \n",
        "\n",
        "scatterplot = sns.scatterplot(\n",
        "    data=scat_data, \n",
        "    x='age', \n",
        "    y='experience')\n",
        "scatterplot.set_ylabel('Опыт работы')\n",
        "scatterplot.set_xlabel('Возраст')\n",
        "sns.lineplot(x=[0,100], y=[0,100])\n",
        "\n",
        "plt.show()"
      ]
    },
    {
      "cell_type": "markdown",
      "id": "6f9218ff-52c7-4742-b328-4db5d4da7262",
      "metadata": {
        "id": "6f9218ff-52c7-4742-b328-4db5d4da7262"
      },
      "source": [
        "Четко вырисовываются аномалии в виде семи одиночных точек. Данные с опытом работы равному или больше возраста соискателя содержат ошибку."
      ]
    },
    {
      "cell_type": "markdown",
      "id": "0cc3b0d5-b551-424d-9956-8da18fce17a1",
      "metadata": {
        "id": "0cc3b0d5-b551-424d-9956-8da18fce17a1"
      },
      "source": [
        "**Дополнительные баллы**\n",
        "\n",
        "Для получения 2 дополнительных баллов по разведывательному анализу постройте еще два любых содержательных графика или диаграммы, которые помогут проиллюстрировать влияние признаков/взаимосвязь между признаками/распределения признаков. Приведите выводы по ним. Желательно, чтобы в анализе участвовали признаки, которые мы создавали ранее в разделе \"Преобразование данных\".\n"
      ]
    },
    {
      "cell_type": "code",
      "execution_count": null,
      "id": "e273ec66-b8df-41e5-9b99-bdab93dddd85",
      "metadata": {
        "id": "e273ec66-b8df-41e5-9b99-bdab93dddd85",
        "colab": {
          "base_uri": "https://localhost:8080/",
          "height": 439
        },
        "outputId": "a32f273f-9c07-47d5-ea30-feaac59043c6"
      },
      "outputs": [
        {
          "output_type": "stream",
          "name": "stdout",
          "text": [
            "40000.0 - медианная зарплата женщин.\n",
            "50000.0 - медианная зарплата мужчин.\n"
          ]
        },
        {
          "output_type": "display_data",
          "data": {
            "text/plain": [
              "<Figure size 720x432 with 1 Axes>"
            ],
            "image/png": "[encoded data removed]"
          },
          "metadata": {
            "needs_background": "light"
          }
        }
      ],
      "source": [
        "# ваш код здесь\n",
        "# для доп.графиков возьмем более реальные зарплаты (до 100тыс.) для РФ \n",
        "# и рассмотрим зарплатные ожидания мужчин и женщин\n",
        "box_data = data[data['ЗП (руб)'] < 100000]\n",
        "\n",
        "fig = plt.figure(figsize=(10, 6))\n",
        "plt.title('Медианная зарплата мужчин и женщин в диапазоне до 100 тыс.') \n",
        "\n",
        "sns.boxplot(data=box_data,\n",
        "            x=box_data['Пол'],\n",
        "            y=box_data['ЗП (руб)'],\n",
        "            hue='Пол',\n",
        "            medianprops={\"color\": \"red\"}\n",
        ")\n",
        "\n",
        "gender_median = box_data.groupby(['Пол'])['ЗП (руб)'].median()\n",
        "print(f'{gender_median[0]} - медианная зарплата женщин.')\n",
        "print(f'{gender_median[1]} - медианная зарплата мужчин.')"
      ]
    },
    {
      "cell_type": "markdown",
      "source": [
        "Если самое распространенная величина зарплаты 50 тыс., то медианное значение наиболее реальных для РФ зарплат (до 100 тыс.) для мужчин и женщин отличается на 10 тыс.: 50 мужчин и 40 для женщин."
      ],
      "metadata": {
        "id": "t2xkPZw5ZL1h"
      },
      "id": "t2xkPZw5ZL1h"
    },
    {
      "cell_type": "code",
      "source": [
        "# График, отражающий долю образования среди мужчин и женщин.\n",
        "\n",
        "men_data = data[data['Пол'] == 'М'].groupby(['Образование'])['Ищет работу на должность:'].count()\n",
        "women_data = data[data['Пол'] == 'Ж'].groupby(['Образование'])['Ищет работу на должность:'].count()\n",
        "\n",
        "fig, axes = plt.subplots(nrows=1, ncols=2, figsize=(14, 6))\n",
        "plt.title('Распределение соискателей по полу и образованию')\n",
        "\n",
        "axes[0].pie(\n",
        "    men_data,\n",
        "    labels=men_data.index,\n",
        "    autopct='%.2f%%',\n",
        "    explode = [0.0, 0.1, 0.1, 0.2]\n",
        ");\n",
        "\n",
        "axes[1].pie(\n",
        "    men_data,\n",
        "    labels=women_data.index,\n",
        "    autopct='%.2f%%',\n",
        "    explode = [0.0, 0.1, 0.1, 0.2]\n",
        ");\n",
        "\n",
        "plt.show()"
      ],
      "metadata": {
        "id": "uUINkRd4EyCt",
        "colab": {
          "base_uri": "https://localhost:8080/",
          "height": 373
        },
        "outputId": "30e529a5-2879-4c67-8d18-446455efc2c4"
      },
      "id": "uUINkRd4EyCt",
      "execution_count": null,
      "outputs": [
        {
          "output_type": "display_data",
          "data": {
            "text/plain": [
              "<Figure size 1008x432 with 2 Axes>"
            ],
            "image/png": "[encoded data removed]"
          },
          "metadata": {}
        }
      ]
    },
    {
      "cell_type": "markdown",
      "id": "04966e40-3bc3-4dc8-9ba2-e80580ce3abc",
      "metadata": {
        "id": "04966e40-3bc3-4dc8-9ba2-e80580ce3abc"
      },
      "source": [
        "19 процентов женщин, представленных в датасете, ничем не уступают по тяге к знаниям мужчинам: графики индентичны. Но уступают по настойчивости соглашаясь на меньшую заработную плату. К тому же, четко видно, что кандидатов со средним образованием очень мало (менее 1,5%). Кандитатов с высшим образованием почти 75%."
      ]
    },
    {
      "cell_type": "markdown",
      "id": "b1ef156a-efcb-49ce-bb23-90763e7f35b2",
      "metadata": {
        "tags": [],
        "id": "b1ef156a-efcb-49ce-bb23-90763e7f35b2"
      },
      "source": [
        "# Очистка данных"
      ]
    },
    {
      "cell_type": "markdown",
      "id": "b9cd50a0-992d-4988-8463-2b2b1c4629b4",
      "metadata": {
        "id": "b9cd50a0-992d-4988-8463-2b2b1c4629b4"
      },
      "source": [
        "1. Начнем с дубликатов в наших данных. Найдите **полные дубликаты** в таблице с резюме и удалите их. "
      ]
    },
    {
      "cell_type": "code",
      "execution_count": null,
      "id": "54ab0e50-c0f1-47cc-a54b-bc5c8bc363f9",
      "metadata": {
        "id": "54ab0e50-c0f1-47cc-a54b-bc5c8bc363f9",
        "colab": {
          "base_uri": "https://localhost:8080/"
        },
        "outputId": "22196d92-1e7d-4d15-b0e9-3d5b504f00ba"
      },
      "outputs": [
        {
          "output_type": "stream",
          "name": "stdout",
          "text": [
            "Найдено дублирующих строк: 161\n"
          ]
        }
      ],
      "source": [
        "# ваш код здесь\n",
        "print(f'Найдено дублирующих строк: {data.duplicated().sum()}')\n",
        "data = data.drop_duplicates().reset_index(drop=True)"
      ]
    },
    {
      "cell_type": "markdown",
      "id": "4dea20cb-a36b-474a-a0b9-e08e8e3857a5",
      "metadata": {
        "id": "4dea20cb-a36b-474a-a0b9-e08e8e3857a5"
      },
      "source": [
        "2. Займемся пропусками. Выведите информацию **о числе пропусков** в столбцах. "
      ]
    },
    {
      "cell_type": "code",
      "execution_count": null,
      "id": "9c61b3c0-bb66-46c9-ae1e-81d3f5752b4a",
      "metadata": {
        "id": "9c61b3c0-bb66-46c9-ae1e-81d3f5752b4a",
        "colab": {
          "base_uri": "https://localhost:8080/"
        },
        "outputId": "252c7f2f-bf54-41d3-9e6c-024b428e2a90"
      },
      "outputs": [
        {
          "output_type": "stream",
          "name": "stdout",
          "text": [
            "Найдено пропусков:\n",
            "Ищет работу на должность:            0\n",
            "Последнее/нынешнее место работы      1\n",
            "Последняя/нынешняя должность         2\n",
            "Обновление резюме                    0\n",
            "Авто                                 0\n",
            "Образование                          0\n",
            "Пол                                  0\n",
            "Возраст                              0\n",
            "Опыт работы (месяц)                168\n",
            "Город                                0\n",
            "Готовность к переезду                0\n",
            "Готовность к командировкам           0\n",
            "полная занятость                     0\n",
            "полный день                          0\n",
            "частичная занятость                  0\n",
            "сменный график                       0\n",
            "проектная работа                     0\n",
            "гибкий график                        0\n",
            "стажировка                           0\n",
            "удаленная работа                     0\n",
            "волонтерство                         0\n",
            "вахтовый метод                       0\n",
            "ЗП (руб)                             0\n",
            "dtype: int64\n"
          ]
        }
      ],
      "source": [
        "# ваш код здесь\n",
        "print(f'Найдено пропусков:\\n{data.isna().sum()}')"
      ]
    },
    {
      "cell_type": "markdown",
      "id": "eedceb80-c5ca-480e-b27a-278dfb8b4438",
      "metadata": {
        "id": "eedceb80-c5ca-480e-b27a-278dfb8b4438"
      },
      "source": [
        "3. Итак, у нас есть пропуски в 3ех столбцах: **\"Опыт работы (месяц)\"**, **\"Последнее/нынешнее место работы\"**, **\"Последняя/нынешняя должность\"**. Поступим следующим образом: удалите строки, где есть пропуск в столбцах с местом работы и должностью. Пропуски в столбце с опытом работы заполните **медианным** значением."
      ]
    },
    {
      "cell_type": "code",
      "execution_count": null,
      "id": "69621713-0cc5-4f1b-a1d7-bb144fa6148c",
      "metadata": {
        "id": "69621713-0cc5-4f1b-a1d7-bb144fa6148c",
        "colab": {
          "base_uri": "https://localhost:8080/"
        },
        "outputId": "71dae7ae-a404-4056-b3d4-6edac604ba64"
      },
      "outputs": [
        {
          "output_type": "stream",
          "name": "stderr",
          "text": [
            "<ipython-input-26-967a9dc47794>:3: SettingWithCopyWarning:\n",
            "\n",
            "\n",
            "A value is trying to be set on a copy of a slice from a DataFrame.\n",
            "Try using .loc[row_indexer,col_indexer] = value instead\n",
            "\n",
            "See the caveats in the documentation: https://pandas.pydata.org/pandas-docs/stable/user_guide/indexing.html#returning-a-view-versus-a-copy\n",
            "\n"
          ]
        }
      ],
      "source": [
        "# ваш код здесь\n",
        "data = data.dropna(subset=['Последнее/нынешнее место работы','Последняя/нынешняя должность'], axis=0)\n",
        "data['Опыт работы (месяц)'] = data['Опыт работы (месяц)'].fillna(data['Опыт работы (месяц)'].median())"
      ]
    },
    {
      "cell_type": "markdown",
      "id": "1be1e9c6-37cf-4a5f-bfeb-04cab799dc80",
      "metadata": {
        "id": "1be1e9c6-37cf-4a5f-bfeb-04cab799dc80"
      },
      "source": [
        "4. Мы добрались до ликвидации выбросов. Сначала очистим данные вручную. Удалите резюме, в которых указана заработная плата либо выше 1 млн. рублей, либо ниже 1 тыс. рублей."
      ]
    },
    {
      "cell_type": "code",
      "execution_count": null,
      "id": "0036a355-9ccf-4564-8b01-73d8194297e7",
      "metadata": {
        "id": "0036a355-9ccf-4564-8b01-73d8194297e7",
        "colab": {
          "base_uri": "https://localhost:8080/"
        },
        "outputId": "6c42d019-bf25-41c4-929a-ff2b9cda33c6"
      },
      "outputs": [
        {
          "output_type": "stream",
          "name": "stdout",
          "text": [
            "Cреднее значение в столбце «Опыт работы (месяц)» после заполнения пропусков: 114.0\n"
          ]
        }
      ],
      "source": [
        "# ваш код здесь\n",
        "filter_sal = data[(data['ЗП (руб)'] > 1000000) | (data['ЗП (руб)'] < 1000)].index\n",
        "data = data.drop(index=filter_sal, axis=0)\n",
        "print('Cреднее значение в столбце «Опыт работы (месяц)» после заполнения пропусков:', round(data['Опыт работы (месяц)'].mean(),0))"
      ]
    },
    {
      "cell_type": "markdown",
      "id": "ec3c8db7-fa21-4a41-a994-1af63742a642",
      "metadata": {
        "id": "ec3c8db7-fa21-4a41-a994-1af63742a642"
      },
      "source": [
        "5. В процессе разведывательного анализа мы обнаружили резюме, в которых **опыт работы в годах превышал возраст соискателя**. Найдите такие резюме и удалите их из данных\n"
      ]
    },
    {
      "cell_type": "code",
      "execution_count": null,
      "id": "949132bc-d5b6-4611-8218-0b9a504d74f4",
      "metadata": {
        "id": "949132bc-d5b6-4611-8218-0b9a504d74f4"
      },
      "outputs": [],
      "source": [
        "# ваш код здесь\n",
        "data[\"Exp_mode\"] = data['Опыт работы (месяц)']/12\n",
        "filter_ages = data[data['Exp_mode'] > data['Возраст']].index\n",
        "data = data.drop(index=filter_ages, axis=0)\n",
        "data = data.drop(columns=['Exp_mode'], axis=1)"
      ]
    },
    {
      "cell_type": "markdown",
      "id": "1041c17a-ca8f-4543-a0ca-32778914fb00",
      "metadata": {
        "id": "1041c17a-ca8f-4543-a0ca-32778914fb00"
      },
      "source": [
        "6. В результате анализа мы обнаружили потенциальные выбросы в признаке **\"Возраст\"**. Это оказались резюме людей чересчур преклонного возраста для поиска работы. Попробуйте построить распределение признака в **логарифмическом масштабе**. Добавьте к графику линии, отображающие **среднее и границы интервала метода трех сигм**. Напомним, сделать это можно с помощью метода axvline. Например, для построение линии среднего будет иметь вид:\n",
        "\n",
        "`histplot.axvline(log_age.mean(), color='k', lw=2)`\n",
        "\n",
        "В какую сторону асимметрично логарифмическое распределение? Напишите об этом в комментарии к графику.\n",
        "Найдите выбросы с помощью метода z-отклонения и удалите их из данных, используйте логарифмический масштаб. Давайте сделаем послабление на **1 сигму** (возьмите 4 сигмы) в **правую сторону**.\n",
        "\n",
        "Выведите таблицу с полученными выбросами и оцените, с каким возрастом соискатели попадают под категорию выбросов?"
      ]
    },
    {
      "cell_type": "code",
      "execution_count": null,
      "id": "6a743d39-5204-48d3-8271-b9f88e68d40e",
      "metadata": {
        "id": "6a743d39-5204-48d3-8271-b9f88e68d40e",
        "colab": {
          "base_uri": "https://localhost:8080/",
          "height": 764
        },
        "outputId": "a4ffc490-8257-42cb-ef05-844ec8d00834"
      },
      "outputs": [
        {
          "output_type": "display_data",
          "data": {
            "text/plain": [
              "<Figure size 720x432 with 1 Axes>"
            ],
            "image/png": "[encoded data removed]"
          },
          "metadata": {
            "needs_background": "light"
          }
        },
        {
          "output_type": "stream",
          "name": "stdout",
          "text": [
            "Число выбросов по методу z-отклонения: 3\n",
            "Результирующее число записей: 44482\n"
          ]
        },
        {
          "output_type": "display_data",
          "data": {
            "text/plain": [
              "            Ищет работу на должность: Последнее/нынешнее место работы  \\\n",
              "30982  Менеджер по работе с клиентами           ООО \"ФёрстКэшКомпани\"   \n",
              "32795                 Тестировщик игр                        OOO ЖМЫХ   \n",
              "33499            Frontend-разработчик                       Freelance   \n",
              "\n",
              "         Последняя/нынешняя должность Обновление резюме        Авто  \\\n",
              "30982  Менеджер по работе с клиентами        2019-06-04  Не указано   \n",
              "32795                  Тестировщик ПО        2019-09-04  Не указано   \n",
              "33499            Frontend-разработчик        2019-04-19  Не указано   \n",
              "\n",
              "               Образование Пол  Возраст  Опыт работы (месяц)            Город  \\\n",
              "30982              среднее   М       15                  2.0  Санкт-Петербург   \n",
              "32795  среднее специальное   М       15                  3.0           другие   \n",
              "33499  среднее специальное   М      100                 30.0  Санкт-Петербург   \n",
              "\n",
              "       ...  полный день  частичная занятость  сменный график  \\\n",
              "30982  ...        False                 True            True   \n",
              "32795  ...         True                False           False   \n",
              "33499  ...         True                 True           False   \n",
              "\n",
              "       проектная работа  гибкий график  стажировка  удаленная работа  \\\n",
              "30982             False           True       False              True   \n",
              "32795             False          False       False             False   \n",
              "33499              True           True        True              True   \n",
              "\n",
              "       волонтерство  вахтовый метод  ЗП (руб)  \n",
              "30982         False           False   10000.0  \n",
              "32795         False           False    2000.0  \n",
              "33499         False           False   60000.0  \n",
              "\n",
              "[3 rows x 23 columns]"
            ],
            "text/html": [
              "\n",
              "  <div id=\"df-348fe11e-be56-4154-a95e-274c13d7fd71\">\n",
              "    <div class=\"colab-df-container\">\n",
              "      <div>\n",
              "<style scoped>\n",
              "    .dataframe tbody tr th:only-of-type {\n",
              "        vertical-align: middle;\n",
              "    }\n",
              "\n",
              "    .dataframe tbody tr th {\n",
              "        vertical-align: top;\n",
              "    }\n",
              "\n",
              "    .dataframe thead th {\n",
              "        text-align: right;\n",
              "    }\n",
              "</style>\n",
              "<table border=\"1\" class=\"dataframe\">\n",
              "  <thead>\n",
              "    <tr style=\"text-align: right;\">\n",
              "      <th></th>\n",
              "      <th>Ищет работу на должность:</th>\n",
              "      <th>Последнее/нынешнее место работы</th>\n",
              "      <th>Последняя/нынешняя должность</th>\n",
              "      <th>Обновление резюме</th>\n",
              "      <th>Авто</th>\n",
              "      <th>Образование</th>\n",
              "      <th>Пол</th>\n",
              "      <th>Возраст</th>\n",
              "      <th>Опыт работы (месяц)</th>\n",
              "      <th>Город</th>\n",
              "      <th>...</th>\n",
              "      <th>полный день</th>\n",
              "      <th>частичная занятость</th>\n",
              "      <th>сменный график</th>\n",
              "      <th>проектная работа</th>\n",
              "      <th>гибкий график</th>\n",
              "      <th>стажировка</th>\n",
              "      <th>удаленная работа</th>\n",
              "      <th>волонтерство</th>\n",
              "      <th>вахтовый метод</th>\n",
              "      <th>ЗП (руб)</th>\n",
              "    </tr>\n",
              "  </thead>\n",
              "  <tbody>\n",
              "    <tr>\n",
              "      <th>30982</th>\n",
              "      <td>Менеджер по работе с клиентами</td>\n",
              "      <td>ООО \"ФёрстКэшКомпани\"</td>\n",
              "      <td>Менеджер по работе с клиентами</td>\n",
              "      <td>2019-06-04</td>\n",
              "      <td>Не указано</td>\n",
              "      <td>среднее</td>\n",
              "      <td>М</td>\n",
              "      <td>15</td>\n",
              "      <td>2.0</td>\n",
              "      <td>Санкт-Петербург</td>\n",
              "      <td>...</td>\n",
              "      <td>False</td>\n",
              "      <td>True</td>\n",
              "      <td>True</td>\n",
              "      <td>False</td>\n",
              "      <td>True</td>\n",
              "      <td>False</td>\n",
              "      <td>True</td>\n",
              "      <td>False</td>\n",
              "      <td>False</td>\n",
              "      <td>10000.0</td>\n",
              "    </tr>\n",
              "    <tr>\n",
              "      <th>32795</th>\n",
              "      <td>Тестировщик игр</td>\n",
              "      <td>OOO ЖМЫХ</td>\n",
              "      <td>Тестировщик ПО</td>\n",
              "      <td>2019-09-04</td>\n",
              "      <td>Не указано</td>\n",
              "      <td>среднее специальное</td>\n",
              "      <td>М</td>\n",
              "      <td>15</td>\n",
              "      <td>3.0</td>\n",
              "      <td>другие</td>\n",
              "      <td>...</td>\n",
              "      <td>True</td>\n",
              "      <td>False</td>\n",
              "      <td>False</td>\n",
              "      <td>False</td>\n",
              "      <td>False</td>\n",
              "      <td>False</td>\n",
              "      <td>False</td>\n",
              "      <td>False</td>\n",
              "      <td>False</td>\n",
              "      <td>2000.0</td>\n",
              "    </tr>\n",
              "    <tr>\n",
              "      <th>33499</th>\n",
              "      <td>Frontend-разработчик</td>\n",
              "      <td>Freelance</td>\n",
              "      <td>Frontend-разработчик</td>\n",
              "      <td>2019-04-19</td>\n",
              "      <td>Не указано</td>\n",
              "      <td>среднее специальное</td>\n",
              "      <td>М</td>\n",
              "      <td>100</td>\n",
              "      <td>30.0</td>\n",
              "      <td>Санкт-Петербург</td>\n",
              "      <td>...</td>\n",
              "      <td>True</td>\n",
              "      <td>True</td>\n",
              "      <td>False</td>\n",
              "      <td>True</td>\n",
              "      <td>True</td>\n",
              "      <td>True</td>\n",
              "      <td>True</td>\n",
              "      <td>False</td>\n",
              "      <td>False</td>\n",
              "      <td>60000.0</td>\n",
              "    </tr>\n",
              "  </tbody>\n",
              "</table>\n",
              "<p>3 rows × 23 columns</p>\n",
              "</div>\n",
              "      <button class=\"colab-df-convert\" onclick=\"convertToInteractive('df-348fe11e-be56-4154-a95e-274c13d7fd71')\"\n",
              "              title=\"Convert this dataframe to an interactive table.\"\n",
              "              style=\"display:none;\">\n",
              "        \n",
              "  <svg xmlns=\"http://www.w3.org/2000/svg\" height=\"24px\"viewBox=\"0 0 24 24\"\n",
              "       width=\"24px\">\n",
              "    <path d=\"M0 0h24v24H0V0z\" fill=\"none\"/>\n",
              "    <path d=\"M18.56 5.44l.94 2.06.94-2.06 2.06-.94-2.06-.94-.94-2.06-.94 2.06-2.06.94zm-11 1L8.5 8.5l.94-2.06 2.06-.94-2.06-.94L8.5 2.5l-.94 2.06-2.06.94zm10 10l.94 2.06.94-2.06 2.06-.94-2.06-.94-.94-2.06-.94 2.06-2.06.94z\"/><path d=\"M17.41 7.96l-1.37-1.37c-.4-.4-.92-.59-1.43-.59-.52 0-1.04.2-1.43.59L10.3 9.45l-7.72 7.72c-.78.78-.78 2.05 0 2.83L4 21.41c.39.39.9.59 1.41.59.51 0 1.02-.2 1.41-.59l7.78-7.78 2.81-2.81c.8-.78.8-2.07 0-2.86zM5.41 20L4 18.59l7.72-7.72 1.47 1.35L5.41 20z\"/>\n",
              "  </svg>\n",
              "      </button>\n",
              "      \n",
              "  <style>\n",
              "    .colab-df-container {\n",
              "      display:flex;\n",
              "      flex-wrap:wrap;\n",
              "      gap: 12px;\n",
              "    }\n",
              "\n",
              "    .colab-df-convert {\n",
              "      background-color: #E8F0FE;\n",
              "      border: none;\n",
              "      border-radius: 50%;\n",
              "      cursor: pointer;\n",
              "      display: none;\n",
              "      fill: #1967D2;\n",
              "      height: 32px;\n",
              "      padding: 0 0 0 0;\n",
              "      width: 32px;\n",
              "    }\n",
              "\n",
              "    .colab-df-convert:hover {\n",
              "      background-color: #E2EBFA;\n",
              "      box-shadow: 0px 1px 2px rgba(60, 64, 67, 0.3), 0px 1px 3px 1px rgba(60, 64, 67, 0.15);\n",
              "      fill: #174EA6;\n",
              "    }\n",
              "\n",
              "    [theme=dark] .colab-df-convert {\n",
              "      background-color: #3B4455;\n",
              "      fill: #D2E3FC;\n",
              "    }\n",
              "\n",
              "    [theme=dark] .colab-df-convert:hover {\n",
              "      background-color: #434B5C;\n",
              "      box-shadow: 0px 1px 3px 1px rgba(0, 0, 0, 0.15);\n",
              "      filter: drop-shadow(0px 1px 2px rgba(0, 0, 0, 0.3));\n",
              "      fill: #FFFFFF;\n",
              "    }\n",
              "  </style>\n",
              "\n",
              "      <script>\n",
              "        const buttonEl =\n",
              "          document.querySelector('#df-348fe11e-be56-4154-a95e-274c13d7fd71 button.colab-df-convert');\n",
              "        buttonEl.style.display =\n",
              "          google.colab.kernel.accessAllowed ? 'block' : 'none';\n",
              "\n",
              "        async function convertToInteractive(key) {\n",
              "          const element = document.querySelector('#df-348fe11e-be56-4154-a95e-274c13d7fd71');\n",
              "          const dataTable =\n",
              "            await google.colab.kernel.invokeFunction('convertToInteractive',\n",
              "                                                     [key], {});\n",
              "          if (!dataTable) return;\n",
              "\n",
              "          const docLinkHtml = 'Like what you see? Visit the ' +\n",
              "            '<a target=\"_blank\" href=https://colab.research.google.com/notebooks/data_table.ipynb>data table notebook</a>'\n",
              "            + ' to learn more about interactive tables.';\n",
              "          element.innerHTML = '';\n",
              "          dataTable['output_type'] = 'display_data';\n",
              "          await google.colab.output.renderOutput(dataTable, element);\n",
              "          const docLink = document.createElement('div');\n",
              "          docLink.innerHTML = docLinkHtml;\n",
              "          element.appendChild(docLink);\n",
              "        }\n",
              "      </script>\n",
              "    </div>\n",
              "  </div>\n",
              "  "
            ]
          },
          "metadata": {}
        }
      ],
      "source": [
        "# ваш код здесь\n",
        "\n",
        "fig = plt.figure(figsize=(10, 6))\n",
        "\n",
        "Log_age = pd.DataFrame()                        #создадим прологарифмированный признак возраста отдельно\n",
        "Log_age['Лог_Возраст'] = np.log(data['Возраст'])\n",
        "histplot = sns.histplot(Log_age['Лог_Возраст'], bins=20)    #строим график в логарифмическом масштабе\n",
        "histplot.axvline(Log_age['Лог_Возраст'].mean(), color='k', lw=2)\n",
        "histplot.axvline(Log_age['Лог_Возраст'].mean()+ 3 * Log_age['Лог_Возраст'].std(), color='k', ls='--', lw=2)\n",
        "histplot.axvline(Log_age['Лог_Возраст'].mean()- 3 * Log_age['Лог_Возраст'].std(), color='k', ls='--', lw=2)\n",
        "histplot.set_title('Распределение признака \"Возраст\" в логарифмическом масштабе.');\n",
        "\n",
        "plt.show()\n",
        "\n",
        "###\n",
        "\n",
        "def outliers_z_score(data, feature, log_scale=False, left=3, right=3):\n",
        "# Функция поиска выбросов с помощью метода 3 сигм\n",
        "# Args: на вход подается датафрейм (arg) и столбец (feature) для обработки. \n",
        "      # Параметры left и right по умолчанию равные 3 - число отклонений от \n",
        "      # средней величины в левую и правую сторону. log_scale для логарифмирования\n",
        "# Returns: возвращается 2 таблицы: выбросы и очищенные данные'''\n",
        "    if log_scale:\n",
        "      x = np.log(data[feature])\n",
        "    else:\n",
        "      x = data[feature]\n",
        "    mu = x.mean()                                  \n",
        "    sigma = x.std()\n",
        "    lower_bound = mu - left*sigma\n",
        "    upper_bound = mu + right*sigma\n",
        "    outliers = data[(x < lower_bound) | (x > upper_bound)]\n",
        "    cleaned = data[(x > lower_bound) & (x < upper_bound)]\n",
        "    return outliers, cleaned\n",
        "\n",
        "outliers, cleaned = outliers_z_score(data, 'Возраст', right=4, log_scale=True) # +1 сигма справа\n",
        "print(f'Число выбросов по методу z-отклонения: {outliers.shape[0]}')\n",
        "print(f'Результирующее число записей: {cleaned.shape[0]}')\n",
        "\n",
        "display(outliers.sort_values(by='Возраст'))"
      ]
    },
    {
      "cell_type": "markdown",
      "id": "6a7892b4-4113-4746-adce-18aa2844f18e",
      "metadata": {
        "id": "6a7892b4-4113-4746-adce-18aa2844f18e"
      },
      "source": [
        "Ушло аномальное значение (100 лет). В то же время 15-летние соискатели, отработавшие 2-3 месяца, вполне могли бы остаться в датасете, но в этом возрасте невозможно иметь законечнного среднего или среднеспециального образования. \n",
        "\n",
        "В итоге датафрейм уменьшился на 262 строки, что совсем немного для выборки размером более 44 тыс. \n",
        "\n",
        "Мы добавили новые (более информативные) признаки и удалили неинформативные. Исследовали и выявили зависимости:\n",
        "\n",
        "1. Уровень образования влияет на зарплату.\n",
        "2. Чем старше кандидат, тем больше опыта работы.\n",
        "3. Самая распространенная зарплата 50 тысяч.\n",
        "4. Возраст большинства соискателей от 27 до 36 лет. Средний возраст 32 года.\n",
        "5. Самые высокие зарплаты в Москве, с большим отрывом идет Санкт-Петербург. В городах-миллионниках и других городах зарплаты примерно на одном уровне. \n",
        "6. Женщин в представленном датафрейме всего 19 процентов, их уровень образования ничем не отличается от образования соискателей мужчин, но в то же время медианная зарплата на 10 тысяч рублей ниже. Но поиск причин нужно осуществлять в другом исследовании. \n",
        "7. Разъезная работа оплачивается лучше. Кандидаты готовы сменить место жительства, если прибавка к зарплате составит в среднем 10 тысяч рублей.\n",
        "\n",
        "\n",
        "В процессе очистки мы удалили строки с аномальными значения, с явными ошибками (опыт работы, превышающий возраст), с незаменяемыми пропущенными данными (должность и место работы). А также заполнили медианным значением пропущенные данные в 3 строках. "
      ]
    }
  ],
  "metadata": {
    "kernelspec": {
      "display_name": "Python 3 (ipykernel)",
      "language": "python",
      "name": "python3"
    },
    "language_info": {
      "codemirror_mode": {
        "name": "ipython",
        "version": 3
      },
      "file_extension": ".py",
      "mimetype": "text/x-python",
      "name": "python",
      "nbconvert_exporter": "python",
      "pygments_lexer": "ipython3",
      "version": "3.9.7"
    },
    "colab": {
      "provenance": [],
      "include_colab_link": true
    },
    "gpuClass": "standard"
  },
  "nbformat": 4,
  "nbformat_minor": 5
}